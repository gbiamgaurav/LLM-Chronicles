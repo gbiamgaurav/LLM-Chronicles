{
  "nbformat": 4,
  "nbformat_minor": 0,
  "metadata": {
    "colab": {
      "provenance": [],
      "toc_visible": true,
      "include_colab_link": true
    },
    "kernelspec": {
      "name": "python3",
      "display_name": "Python 3"
    },
    "language_info": {
      "name": "python"
    }
  },
  "cells": [
    {
      "cell_type": "markdown",
      "metadata": {
        "id": "view-in-github",
        "colab_type": "text"
      },
      "source": [
        "<a href=\"https://colab.research.google.com/github/gbiamgaurav/LLM-Chronicles/blob/main/llm_chronicles_3_2_gradient_descent_pytorch.ipynb\" target=\"_parent\"><img src=\"https://colab.research.google.com/assets/colab-badge.svg\" alt=\"Open In Colab\"/></a>"
      ]
    },
    {
      "cell_type": "markdown",
      "source": [
        "# Autograd and Pytorch\n",
        "\n",
        "Autograd is PyTorch's automatic differentiation engine. It powers neural network training by computing gradients for complex operations. With Autograd, tensors can remember where they come from in terms of operations and other tensors, making it possible to automatically compute gradients for backward passes.\n",
        "\n",
        "**PyTorch documentation for Autograd**:\n",
        "https://pytorch.org/tutorials/beginner/blitz/autograd_tutorial.html\n"
      ],
      "metadata": {
        "id": "qwVv1VPMN-Nl"
      }
    },
    {
      "cell_type": "code",
      "execution_count": null,
      "metadata": {
        "id": "SK6ca1JI7m9Q",
        "colab": {
          "base_uri": "https://localhost:8080/"
        },
        "outputId": "5a871b93-2461-4603-eb7e-7db73f15abe3"
      },
      "outputs": [
        {
          "output_type": "stream",
          "name": "stdout",
          "text": [
            "Requirement already satisfied: torchviz in /usr/local/lib/python3.10/dist-packages (0.0.2)\n",
            "Requirement already satisfied: torch in /usr/local/lib/python3.10/dist-packages (from torchviz) (2.0.1+cu118)\n",
            "Requirement already satisfied: graphviz in /usr/local/lib/python3.10/dist-packages (from torchviz) (0.20.1)\n",
            "Requirement already satisfied: filelock in /usr/local/lib/python3.10/dist-packages (from torch->torchviz) (3.12.4)\n",
            "Requirement already satisfied: typing-extensions in /usr/local/lib/python3.10/dist-packages (from torch->torchviz) (4.5.0)\n",
            "Requirement already satisfied: sympy in /usr/local/lib/python3.10/dist-packages (from torch->torchviz) (1.12)\n",
            "Requirement already satisfied: networkx in /usr/local/lib/python3.10/dist-packages (from torch->torchviz) (3.1)\n",
            "Requirement already satisfied: jinja2 in /usr/local/lib/python3.10/dist-packages (from torch->torchviz) (3.1.2)\n",
            "Requirement already satisfied: triton==2.0.0 in /usr/local/lib/python3.10/dist-packages (from torch->torchviz) (2.0.0)\n",
            "Requirement already satisfied: cmake in /usr/local/lib/python3.10/dist-packages (from triton==2.0.0->torch->torchviz) (3.27.6)\n",
            "Requirement already satisfied: lit in /usr/local/lib/python3.10/dist-packages (from triton==2.0.0->torch->torchviz) (17.0.2)\n",
            "Requirement already satisfied: MarkupSafe>=2.0 in /usr/local/lib/python3.10/dist-packages (from jinja2->torch->torchviz) (2.1.3)\n",
            "Requirement already satisfied: mpmath>=0.19 in /usr/local/lib/python3.10/dist-packages (from sympy->torch->torchviz) (1.3.0)\n",
            "Requirement already satisfied: torchview in /usr/local/lib/python3.10/dist-packages (0.2.6)\n"
          ]
        }
      ],
      "source": [
        "!pip install torchviz\n",
        "!pip install torchview\n",
        "\n",
        "import torch\n",
        "import torch.nn.functional as F\n",
        "from torch import nn\n",
        "from torch.autograd import Variable\n",
        "from torchviz import make_dot"
      ]
    },
    {
      "cell_type": "code",
      "source": [
        "x1 = torch.tensor([1.2])\n",
        "x1"
      ],
      "metadata": {
        "colab": {
          "base_uri": "https://localhost:8080/"
        },
        "id": "8UYHGvwo73CX",
        "outputId": "6e8f8d58-cb56-4428-d2b5-4a9adeb92526"
      },
      "execution_count": null,
      "outputs": [
        {
          "output_type": "execute_result",
          "data": {
            "text/plain": [
              "tensor([1.2000])"
            ]
          },
          "metadata": {},
          "execution_count": 2
        }
      ]
    },
    {
      "cell_type": "code",
      "source": [
        "x1.requires_grad"
      ],
      "metadata": {
        "colab": {
          "base_uri": "https://localhost:8080/"
        },
        "id": "cnev4fCr8NRU",
        "outputId": "43eb413c-d3b4-4887-f31c-c1eb112610dc"
      },
      "execution_count": null,
      "outputs": [
        {
          "output_type": "execute_result",
          "data": {
            "text/plain": [
              "False"
            ]
          },
          "metadata": {},
          "execution_count": 3
        }
      ]
    },
    {
      "cell_type": "code",
      "source": [
        "w1 = torch.tensor([3.0], requires_grad=True)\n",
        "w1"
      ],
      "metadata": {
        "colab": {
          "base_uri": "https://localhost:8080/"
        },
        "id": "2tbjsodR8SW9",
        "outputId": "8f7dea47-5956-4f86-8992-7180ee22ed9e"
      },
      "execution_count": null,
      "outputs": [
        {
          "output_type": "execute_result",
          "data": {
            "text/plain": [
              "tensor([3.], requires_grad=True)"
            ]
          },
          "metadata": {},
          "execution_count": 4
        }
      ]
    },
    {
      "cell_type": "code",
      "source": [
        "o = x1 * w1\n",
        "o"
      ],
      "metadata": {
        "colab": {
          "base_uri": "https://localhost:8080/"
        },
        "id": "6IBdJpfa8cU_",
        "outputId": "5e0a2f57-94bd-451e-f45e-273dcd503d94"
      },
      "execution_count": null,
      "outputs": [
        {
          "output_type": "execute_result",
          "data": {
            "text/plain": [
              "tensor([3.6000], grad_fn=<MulBackward0>)"
            ]
          },
          "metadata": {},
          "execution_count": 5
        }
      ]
    },
    {
      "cell_type": "code",
      "source": [
        "x1.grad, w1.grad"
      ],
      "metadata": {
        "colab": {
          "base_uri": "https://localhost:8080/"
        },
        "id": "Yn4SR6Il8oFw",
        "outputId": "27b9d7eb-abdb-410a-cbdf-a2f90e93d4c4"
      },
      "execution_count": null,
      "outputs": [
        {
          "output_type": "execute_result",
          "data": {
            "text/plain": [
              "(None, None)"
            ]
          },
          "metadata": {},
          "execution_count": 6
        }
      ]
    },
    {
      "cell_type": "markdown",
      "source": [
        "# The backward() Function\n",
        "\n",
        "When you call the backward() function on a tensor (typically the loss), PyTorch computes the gradients for all tensors involved in the computation of that tensor, provided they have requires_grad set to True. These gradients are stored in the .grad attribute of the respective tensors.\n"
      ],
      "metadata": {
        "id": "js7G8_KcOMtn"
      }
    },
    {
      "cell_type": "code",
      "source": [
        "o.backward(retain_graph=True)"
      ],
      "metadata": {
        "id": "T3CifQlAAz2L"
      },
      "execution_count": null,
      "outputs": []
    },
    {
      "cell_type": "code",
      "source": [
        "x1.grad, w1.grad"
      ],
      "metadata": {
        "colab": {
          "base_uri": "https://localhost:8080/"
        },
        "id": "PHmqQHjsA7pS",
        "outputId": "99f5d05f-f43d-49b8-e779-d64d9dd320ed"
      },
      "execution_count": null,
      "outputs": [
        {
          "output_type": "execute_result",
          "data": {
            "text/plain": [
              "(None, tensor([1.2000]))"
            ]
          },
          "metadata": {},
          "execution_count": 8
        }
      ]
    },
    {
      "cell_type": "markdown",
      "source": [
        "## Quick derivate detour\n",
        "\n",
        "You can skip this section, but if you're curious to see how the derivate is calcualted by hand, this is what's happening (https://en.wikipedia.org/wiki/Differentiation_rules):\n",
        "\n",
        "$ \\Large o(w_1) = x_1 \\cdot w_1$\n",
        "\n",
        "Product rule for derivation, $u = w_1, v=x_1$:\n",
        "\n",
        "$\\Large \\frac{dy}{dx} = u \\cdot \\frac{dv}{dx} + v \\cdot \\frac{du}{dx} $\n",
        "\n",
        "Applying the product rule:\n",
        "\n",
        "$\\Large \\frac{do}{dw_1} = w_1 \\cdot 0 + x_1 \\cdot 1 = x_1 $"
      ],
      "metadata": {
        "id": "NIIJRX_DDsoa"
      }
    },
    {
      "cell_type": "markdown",
      "source": [
        "# Autograd and the Computation Graph\n",
        "\n",
        "Autograd builds a computation graph as you perform operations on tensors. Each node in this graph represents a tensor, and the edges represent the operations that produce new tensors. When computing gradients, Autograd traverses this graph from the output (e.g., loss) back to the input tensors, applying the chain rule of differentiation. This backward traversal allows it to compute the gradient of the loss with respect to each tensor in the graph efficiently.\n"
      ],
      "metadata": {
        "id": "9498pCMKTsex"
      }
    },
    {
      "cell_type": "code",
      "source": [
        "make_dot(o, params={'w1': w1},  show_attrs=True, show_saved=True)"
      ],
      "metadata": {
        "colab": {
          "base_uri": "https://localhost:8080/",
          "height": 352
        },
        "id": "M3B0ArjpUG3T",
        "outputId": "cc017128-6b8c-4c72-cb38-4b994ff5a851"
      },
      "execution_count": null,
      "outputs": [
        {
          "output_type": "execute_result",
          "data": {
            "image/svg+xml": "<?xml version=\"1.0\" encoding=\"UTF-8\" standalone=\"no\"?>\n<!DOCTYPE svg PUBLIC \"-//W3C//DTD SVG 1.1//EN\"\n \"http://www.w3.org/Graphics/SVG/1.1/DTD/svg11.dtd\">\n<!-- Generated by graphviz version 2.43.0 (0)\n -->\n<!-- Title: %3 Pages: 1 -->\n<svg width=\"151pt\" height=\"248pt\"\n viewBox=\"0.00 0.00 151.00 248.00\" xmlns=\"http://www.w3.org/2000/svg\" xmlns:xlink=\"http://www.w3.org/1999/xlink\">\n<g id=\"graph0\" class=\"graph\" transform=\"scale(1 1) rotate(0) translate(4 244)\">\n<title>%3</title>\n<polygon fill=\"white\" stroke=\"transparent\" points=\"-4,4 -4,-244 147,-244 147,4 -4,4\"/>\n<!-- 137289759784240 -->\n<g id=\"node1\" class=\"node\">\n<title>137289759784240</title>\n<polygon fill=\"#caff70\" stroke=\"black\" points=\"62.5,-31 8.5,-31 8.5,0 62.5,0 62.5,-31\"/>\n<text text-anchor=\"middle\" x=\"35.5\" y=\"-7\" font-family=\"monospace\" font-size=\"10.00\"> (1)</text>\n</g>\n<!-- 137289759734176 -->\n<g id=\"node2\" class=\"node\">\n<title>137289759734176</title>\n<polygon fill=\"lightgrey\" stroke=\"black\" points=\"143,-119 0,-119 0,-67 143,-67 143,-119\"/>\n<text text-anchor=\"middle\" x=\"71.5\" y=\"-107\" font-family=\"monospace\" font-size=\"10.00\">MulBackward0</text>\n<text text-anchor=\"middle\" x=\"71.5\" y=\"-96\" font-family=\"monospace\" font-size=\"10.00\">&#45;&#45;&#45;&#45;&#45;&#45;&#45;&#45;&#45;&#45;&#45;&#45;&#45;&#45;&#45;&#45;&#45;&#45;&#45;&#45;&#45;</text>\n<text text-anchor=\"middle\" x=\"71.5\" y=\"-85\" font-family=\"monospace\" font-size=\"10.00\">other: &#160;&#160;&#160;&#160;&#160;&#160;&#160;&#160;&#160;&#160;None</text>\n<text text-anchor=\"middle\" x=\"71.5\" y=\"-74\" font-family=\"monospace\" font-size=\"10.00\">self : [saved tensor]</text>\n</g>\n<!-- 137289759734176&#45;&gt;137289759784240 -->\n<g id=\"edge4\" class=\"edge\">\n<title>137289759734176&#45;&gt;137289759784240</title>\n<path fill=\"none\" stroke=\"black\" d=\"M59.51,-66.86C55.45,-58.35 50.94,-48.87 46.92,-40.46\"/>\n<polygon fill=\"black\" stroke=\"black\" points=\"49.97,-38.71 42.5,-31.19 43.65,-41.72 49.97,-38.71\"/>\n</g>\n<!-- 137289759479408 -->\n<g id=\"node3\" class=\"node\">\n<title>137289759479408</title>\n<polygon fill=\"orange\" stroke=\"black\" points=\"134.5,-30.5 80.5,-30.5 80.5,-0.5 134.5,-0.5 134.5,-30.5\"/>\n<text text-anchor=\"middle\" x=\"107.5\" y=\"-18.5\" font-family=\"monospace\" font-size=\"10.00\">self</text>\n<text text-anchor=\"middle\" x=\"107.5\" y=\"-7.5\" font-family=\"monospace\" font-size=\"10.00\"> (1)</text>\n</g>\n<!-- 137289759734176&#45;&gt;137289759479408 -->\n<g id=\"edge1\" class=\"edge\">\n<title>137289759734176&#45;&gt;137289759479408</title>\n<path fill=\"none\" stroke=\"black\" d=\"M83.49,-66.86C89.21,-54.85 95.86,-40.91 100.7,-30.75\"/>\n</g>\n<!-- 137289759733072 -->\n<g id=\"node4\" class=\"node\">\n<title>137289759733072</title>\n<polygon fill=\"lightgrey\" stroke=\"black\" points=\"122,-174 21,-174 21,-155 122,-155 122,-174\"/>\n<text text-anchor=\"middle\" x=\"71.5\" y=\"-162\" font-family=\"monospace\" font-size=\"10.00\">AccumulateGrad</text>\n</g>\n<!-- 137289759733072&#45;&gt;137289759734176 -->\n<g id=\"edge2\" class=\"edge\">\n<title>137289759733072&#45;&gt;137289759734176</title>\n<path fill=\"none\" stroke=\"black\" d=\"M71.5,-154.98C71.5,-148.43 71.5,-138.91 71.5,-129.33\"/>\n<polygon fill=\"black\" stroke=\"black\" points=\"75,-129.05 71.5,-119.05 68,-129.05 75,-129.05\"/>\n</g>\n<!-- 137286458322560 -->\n<g id=\"node5\" class=\"node\">\n<title>137286458322560</title>\n<polygon fill=\"lightblue\" stroke=\"black\" points=\"98.5,-240 44.5,-240 44.5,-210 98.5,-210 98.5,-240\"/>\n<text text-anchor=\"middle\" x=\"71.5\" y=\"-228\" font-family=\"monospace\" font-size=\"10.00\">w1</text>\n<text text-anchor=\"middle\" x=\"71.5\" y=\"-217\" font-family=\"monospace\" font-size=\"10.00\"> (1)</text>\n</g>\n<!-- 137286458322560&#45;&gt;137289759733072 -->\n<g id=\"edge3\" class=\"edge\">\n<title>137286458322560&#45;&gt;137289759733072</title>\n<path fill=\"none\" stroke=\"black\" d=\"M71.5,-209.84C71.5,-202.21 71.5,-192.7 71.5,-184.45\"/>\n<polygon fill=\"black\" stroke=\"black\" points=\"75,-184.27 71.5,-174.27 68,-184.27 75,-184.27\"/>\n</g>\n</g>\n</svg>\n",
            "text/plain": [
              "<graphviz.graphs.Digraph at 0x7cdd435c3a00>"
            ]
          },
          "metadata": {},
          "execution_count": 9
        }
      ]
    },
    {
      "cell_type": "markdown",
      "source": [
        "## A computation graph for a perceptron\n",
        "\n",
        "Let's now look at a computation graph for a simple perceptron with two inputs and 1 output:\n",
        "\n",
        "![picture](https://raw.githubusercontent.com/kyuz0/llm-chronicles/main/3.2%20-%20Lab%20-%20Gradient%20Descent%20in%20Practice%20with%20PyTorch/backward-pass.png)"
      ],
      "metadata": {
        "id": "8_uKMXFPUNRc"
      }
    },
    {
      "cell_type": "code",
      "source": [
        "x1 = torch.tensor([-1.1])\n",
        "x2 = torch.tensor([2.4])\n",
        "\n",
        "w1 = torch.tensor([0.6], requires_grad=True)\n",
        "w2 = torch.tensor([1.3], requires_grad=True)\n",
        "b = torch.tensor([0.2], requires_grad=True)\n",
        "\n",
        "z = (x1*w1 + x2*w2) + b\n",
        "# using ReLU instead of tanh for simplicity\n",
        "y_hat = torch.nn.functional.relu(z)\n",
        "y_hat"
      ],
      "metadata": {
        "colab": {
          "base_uri": "https://localhost:8080/"
        },
        "id": "11oedogHFoVu",
        "outputId": "c7714535-4c1c-4841-bd8c-e9f5b36e9d1f"
      },
      "execution_count": null,
      "outputs": [
        {
          "output_type": "execute_result",
          "data": {
            "text/plain": [
              "tensor([2.6600], grad_fn=<ReluBackward0>)"
            ]
          },
          "metadata": {},
          "execution_count": 11
        }
      ]
    },
    {
      "cell_type": "code",
      "source": [
        "y = torch.tensor(0.5)\n",
        "l = y_hat - y\n",
        "l"
      ],
      "metadata": {
        "colab": {
          "base_uri": "https://localhost:8080/"
        },
        "id": "VwDDQPntGNWG",
        "outputId": "cd995eca-7295-4a0d-e6ae-d478cb83bd49"
      },
      "execution_count": null,
      "outputs": [
        {
          "output_type": "execute_result",
          "data": {
            "text/plain": [
              "tensor([2.1600], grad_fn=<SubBackward0>)"
            ]
          },
          "metadata": {},
          "execution_count": 12
        }
      ]
    },
    {
      "cell_type": "code",
      "source": [
        "l.backward(retain_graph=True)"
      ],
      "metadata": {
        "id": "oOllhLKWGc95"
      },
      "execution_count": null,
      "outputs": []
    },
    {
      "cell_type": "code",
      "source": [
        "w1.grad, w2.grad, b.grad"
      ],
      "metadata": {
        "colab": {
          "base_uri": "https://localhost:8080/"
        },
        "id": "tQ7__JRpGhny",
        "outputId": "b277b28a-4d5f-421f-a0e9-c1d6ab98d18c"
      },
      "execution_count": null,
      "outputs": [
        {
          "output_type": "execute_result",
          "data": {
            "text/plain": [
              "(tensor([-1.1000]), tensor([2.4000]), tensor([1.]))"
            ]
          },
          "metadata": {},
          "execution_count": 14
        }
      ]
    },
    {
      "cell_type": "code",
      "source": [
        "make_dot(l, params={'w1': w1, 'w2': w2, 'b' : b},  show_attrs=True, show_saved=True)"
      ],
      "metadata": {
        "colab": {
          "base_uri": "https://localhost:8080/",
          "height": 762
        },
        "id": "wYb_faRRGqCp",
        "outputId": "6f9f7ed8-36e8-4f68-c3a4-df765ad4b978"
      },
      "execution_count": null,
      "outputs": [
        {
          "output_type": "execute_result",
          "data": {
            "image/svg+xml": "<?xml version=\"1.0\" encoding=\"UTF-8\" standalone=\"no\"?>\n<!DOCTYPE svg PUBLIC \"-//W3C//DTD SVG 1.1//EN\"\n \"http://www.w3.org/Graphics/SVG/1.1/DTD/svg11.dtd\">\n<!-- Generated by graphviz version 2.43.0 (0)\n -->\n<!-- Title: %3 Pages: 1 -->\n<svg width=\"407pt\" height=\"556pt\"\n viewBox=\"0.00 0.00 407.00 556.00\" xmlns=\"http://www.w3.org/2000/svg\" xmlns:xlink=\"http://www.w3.org/1999/xlink\">\n<g id=\"graph0\" class=\"graph\" transform=\"scale(1 1) rotate(0) translate(4 552)\">\n<title>%3</title>\n<polygon fill=\"white\" stroke=\"transparent\" points=\"-4,4 -4,-552 403,-552 403,4 -4,4\"/>\n<!-- 137289757889760 -->\n<g id=\"node1\" class=\"node\">\n<title>137289757889760</title>\n<polygon fill=\"#caff70\" stroke=\"black\" points=\"237.5,-31 183.5,-31 183.5,0 237.5,0 237.5,-31\"/>\n<text text-anchor=\"middle\" x=\"210.5\" y=\"-7\" font-family=\"monospace\" font-size=\"10.00\"> (1)</text>\n</g>\n<!-- 137289759732304 -->\n<g id=\"node2\" class=\"node\">\n<title>137289759732304</title>\n<polygon fill=\"lightgrey\" stroke=\"black\" points=\"255,-108 166,-108 166,-67 255,-67 255,-108\"/>\n<text text-anchor=\"middle\" x=\"210.5\" y=\"-96\" font-family=\"monospace\" font-size=\"10.00\">SubBackward0</text>\n<text text-anchor=\"middle\" x=\"210.5\" y=\"-85\" font-family=\"monospace\" font-size=\"10.00\">&#45;&#45;&#45;&#45;&#45;&#45;&#45;&#45;&#45;&#45;&#45;&#45;</text>\n<text text-anchor=\"middle\" x=\"210.5\" y=\"-74\" font-family=\"monospace\" font-size=\"10.00\">alpha: 1</text>\n</g>\n<!-- 137289759732304&#45;&gt;137289757889760 -->\n<g id=\"edge15\" class=\"edge\">\n<title>137289759732304&#45;&gt;137289757889760</title>\n<path fill=\"none\" stroke=\"black\" d=\"M210.5,-66.63C210.5,-58.76 210.5,-49.63 210.5,-41.33\"/>\n<polygon fill=\"black\" stroke=\"black\" points=\"214,-41.08 210.5,-31.08 207,-41.08 214,-41.08\"/>\n</g>\n<!-- 137289759735760 -->\n<g id=\"node3\" class=\"node\">\n<title>137289759735760</title>\n<polygon fill=\"lightgrey\" stroke=\"black\" points=\"330,-185 181,-185 181,-144 330,-144 330,-185\"/>\n<text text-anchor=\"middle\" x=\"255.5\" y=\"-173\" font-family=\"monospace\" font-size=\"10.00\">ReluBackward0</text>\n<text text-anchor=\"middle\" x=\"255.5\" y=\"-162\" font-family=\"monospace\" font-size=\"10.00\">&#45;&#45;&#45;&#45;&#45;&#45;&#45;&#45;&#45;&#45;&#45;&#45;&#45;&#45;&#45;&#45;&#45;&#45;&#45;&#45;&#45;&#45;</text>\n<text text-anchor=\"middle\" x=\"255.5\" y=\"-151\" font-family=\"monospace\" font-size=\"10.00\">result: [saved tensor]</text>\n</g>\n<!-- 137289759735760&#45;&gt;137289759732304 -->\n<g id=\"edge1\" class=\"edge\">\n<title>137289759735760&#45;&gt;137289759732304</title>\n<path fill=\"none\" stroke=\"black\" d=\"M243.68,-143.79C238.72,-135.53 232.85,-125.76 227.45,-116.75\"/>\n<polygon fill=\"black\" stroke=\"black\" points=\"230.39,-114.85 222.24,-108.07 224.39,-118.45 230.39,-114.85\"/>\n</g>\n<!-- 137286458894960 -->\n<g id=\"node4\" class=\"node\">\n<title>137286458894960</title>\n<polygon fill=\"orange\" stroke=\"black\" points=\"327.5,-102.5 273.5,-102.5 273.5,-72.5 327.5,-72.5 327.5,-102.5\"/>\n<text text-anchor=\"middle\" x=\"300.5\" y=\"-90.5\" font-family=\"monospace\" font-size=\"10.00\">result</text>\n<text text-anchor=\"middle\" x=\"300.5\" y=\"-79.5\" font-family=\"monospace\" font-size=\"10.00\"> (1)</text>\n</g>\n<!-- 137289759735760&#45;&gt;137286458894960 -->\n<g id=\"edge2\" class=\"edge\">\n<title>137289759735760&#45;&gt;137286458894960</title>\n<path fill=\"none\" stroke=\"black\" d=\"M267.32,-143.79C275.03,-130.95 284.92,-114.47 291.88,-102.86\"/>\n</g>\n<!-- 137289759733600 -->\n<g id=\"node5\" class=\"node\">\n<title>137289759733600</title>\n<polygon fill=\"lightgrey\" stroke=\"black\" points=\"300,-262 211,-262 211,-221 300,-221 300,-262\"/>\n<text text-anchor=\"middle\" x=\"255.5\" y=\"-250\" font-family=\"monospace\" font-size=\"10.00\">AddBackward0</text>\n<text text-anchor=\"middle\" x=\"255.5\" y=\"-239\" font-family=\"monospace\" font-size=\"10.00\">&#45;&#45;&#45;&#45;&#45;&#45;&#45;&#45;&#45;&#45;&#45;&#45;</text>\n<text text-anchor=\"middle\" x=\"255.5\" y=\"-228\" font-family=\"monospace\" font-size=\"10.00\">alpha: 1</text>\n</g>\n<!-- 137289759733600&#45;&gt;137289759735760 -->\n<g id=\"edge3\" class=\"edge\">\n<title>137289759733600&#45;&gt;137289759735760</title>\n<path fill=\"none\" stroke=\"black\" d=\"M255.5,-220.79C255.5,-212.96 255.5,-203.77 255.5,-195.16\"/>\n<polygon fill=\"black\" stroke=\"black\" points=\"259,-195.07 255.5,-185.07 252,-195.07 259,-195.07\"/>\n</g>\n<!-- 137289759734944 -->\n<g id=\"node6\" class=\"node\">\n<title>137289759734944</title>\n<polygon fill=\"lightgrey\" stroke=\"black\" points=\"207,-339 118,-339 118,-298 207,-298 207,-339\"/>\n<text text-anchor=\"middle\" x=\"162.5\" y=\"-327\" font-family=\"monospace\" font-size=\"10.00\">AddBackward0</text>\n<text text-anchor=\"middle\" x=\"162.5\" y=\"-316\" font-family=\"monospace\" font-size=\"10.00\">&#45;&#45;&#45;&#45;&#45;&#45;&#45;&#45;&#45;&#45;&#45;&#45;</text>\n<text text-anchor=\"middle\" x=\"162.5\" y=\"-305\" font-family=\"monospace\" font-size=\"10.00\">alpha: 1</text>\n</g>\n<!-- 137289759734944&#45;&gt;137289759733600 -->\n<g id=\"edge4\" class=\"edge\">\n<title>137289759734944&#45;&gt;137289759733600</title>\n<path fill=\"none\" stroke=\"black\" d=\"M186.93,-297.79C198.04,-288.84 211.33,-278.12 223.25,-268.51\"/>\n<polygon fill=\"black\" stroke=\"black\" points=\"225.64,-271.08 231.23,-262.07 221.25,-265.63 225.64,-271.08\"/>\n</g>\n<!-- 137289752914016 -->\n<g id=\"node7\" class=\"node\">\n<title>137289752914016</title>\n<polygon fill=\"lightgrey\" stroke=\"black\" points=\"143,-427 0,-427 0,-375 143,-375 143,-427\"/>\n<text text-anchor=\"middle\" x=\"71.5\" y=\"-415\" font-family=\"monospace\" font-size=\"10.00\">MulBackward0</text>\n<text text-anchor=\"middle\" x=\"71.5\" y=\"-404\" font-family=\"monospace\" font-size=\"10.00\">&#45;&#45;&#45;&#45;&#45;&#45;&#45;&#45;&#45;&#45;&#45;&#45;&#45;&#45;&#45;&#45;&#45;&#45;&#45;&#45;&#45;</text>\n<text text-anchor=\"middle\" x=\"71.5\" y=\"-393\" font-family=\"monospace\" font-size=\"10.00\">other: &#160;&#160;&#160;&#160;&#160;&#160;&#160;&#160;&#160;&#160;None</text>\n<text text-anchor=\"middle\" x=\"71.5\" y=\"-382\" font-family=\"monospace\" font-size=\"10.00\">self : [saved tensor]</text>\n</g>\n<!-- 137289752914016&#45;&gt;137289759734944 -->\n<g id=\"edge5\" class=\"edge\">\n<title>137289752914016&#45;&gt;137289759734944</title>\n<path fill=\"none\" stroke=\"black\" d=\"M99.79,-374.97C110.19,-365.78 121.99,-355.34 132.52,-346.02\"/>\n<polygon fill=\"black\" stroke=\"black\" points=\"135.12,-348.39 140.29,-339.15 130.48,-343.15 135.12,-348.39\"/>\n</g>\n<!-- 137289757893760 -->\n<g id=\"node8\" class=\"node\">\n<title>137289757893760</title>\n<polygon fill=\"orange\" stroke=\"black\" points=\"98.5,-333.5 44.5,-333.5 44.5,-303.5 98.5,-303.5 98.5,-333.5\"/>\n<text text-anchor=\"middle\" x=\"71.5\" y=\"-321.5\" font-family=\"monospace\" font-size=\"10.00\">self</text>\n<text text-anchor=\"middle\" x=\"71.5\" y=\"-310.5\" font-family=\"monospace\" font-size=\"10.00\"> (1)</text>\n</g>\n<!-- 137289752914016&#45;&gt;137289757893760 -->\n<g id=\"edge6\" class=\"edge\">\n<title>137289752914016&#45;&gt;137289757893760</title>\n<path fill=\"none\" stroke=\"black\" d=\"M71.5,-374.97C71.5,-361.49 71.5,-345.35 71.5,-333.96\"/>\n</g>\n<!-- 137289752913872 -->\n<g id=\"node9\" class=\"node\">\n<title>137289752913872</title>\n<polygon fill=\"lightgrey\" stroke=\"black\" points=\"122,-482 21,-482 21,-463 122,-463 122,-482\"/>\n<text text-anchor=\"middle\" x=\"71.5\" y=\"-470\" font-family=\"monospace\" font-size=\"10.00\">AccumulateGrad</text>\n</g>\n<!-- 137289752913872&#45;&gt;137289752914016 -->\n<g id=\"edge7\" class=\"edge\">\n<title>137289752913872&#45;&gt;137289752914016</title>\n<path fill=\"none\" stroke=\"black\" d=\"M71.5,-462.98C71.5,-456.43 71.5,-446.91 71.5,-437.33\"/>\n<polygon fill=\"black\" stroke=\"black\" points=\"75,-437.05 71.5,-427.05 68,-437.05 75,-437.05\"/>\n</g>\n<!-- 137289757894080 -->\n<g id=\"node10\" class=\"node\">\n<title>137289757894080</title>\n<polygon fill=\"lightblue\" stroke=\"black\" points=\"98.5,-548 44.5,-548 44.5,-518 98.5,-518 98.5,-548\"/>\n<text text-anchor=\"middle\" x=\"71.5\" y=\"-536\" font-family=\"monospace\" font-size=\"10.00\">w1</text>\n<text text-anchor=\"middle\" x=\"71.5\" y=\"-525\" font-family=\"monospace\" font-size=\"10.00\"> (1)</text>\n</g>\n<!-- 137289757894080&#45;&gt;137289752913872 -->\n<g id=\"edge8\" class=\"edge\">\n<title>137289757894080&#45;&gt;137289752913872</title>\n<path fill=\"none\" stroke=\"black\" d=\"M71.5,-517.84C71.5,-510.21 71.5,-500.7 71.5,-492.45\"/>\n<polygon fill=\"black\" stroke=\"black\" points=\"75,-492.27 71.5,-482.27 68,-492.27 75,-492.27\"/>\n</g>\n<!-- 137289752907200 -->\n<g id=\"node11\" class=\"node\">\n<title>137289752907200</title>\n<polygon fill=\"lightgrey\" stroke=\"black\" points=\"304,-427 161,-427 161,-375 304,-375 304,-427\"/>\n<text text-anchor=\"middle\" x=\"232.5\" y=\"-415\" font-family=\"monospace\" font-size=\"10.00\">MulBackward0</text>\n<text text-anchor=\"middle\" x=\"232.5\" y=\"-404\" font-family=\"monospace\" font-size=\"10.00\">&#45;&#45;&#45;&#45;&#45;&#45;&#45;&#45;&#45;&#45;&#45;&#45;&#45;&#45;&#45;&#45;&#45;&#45;&#45;&#45;&#45;</text>\n<text text-anchor=\"middle\" x=\"232.5\" y=\"-393\" font-family=\"monospace\" font-size=\"10.00\">other: &#160;&#160;&#160;&#160;&#160;&#160;&#160;&#160;&#160;&#160;None</text>\n<text text-anchor=\"middle\" x=\"232.5\" y=\"-382\" font-family=\"monospace\" font-size=\"10.00\">self : [saved tensor]</text>\n</g>\n<!-- 137289752907200&#45;&gt;137289759734944 -->\n<g id=\"edge9\" class=\"edge\">\n<title>137289752907200&#45;&gt;137289759734944</title>\n<path fill=\"none\" stroke=\"black\" d=\"M210.74,-374.97C202.97,-366.05 194.2,-355.95 186.28,-346.84\"/>\n<polygon fill=\"black\" stroke=\"black\" points=\"188.79,-344.4 179.58,-339.15 183.5,-348.99 188.79,-344.4\"/>\n</g>\n<!-- 137289757893920 -->\n<g id=\"node12\" class=\"node\">\n<title>137289757893920</title>\n<polygon fill=\"orange\" stroke=\"black\" points=\"279.5,-333.5 225.5,-333.5 225.5,-303.5 279.5,-303.5 279.5,-333.5\"/>\n<text text-anchor=\"middle\" x=\"252.5\" y=\"-321.5\" font-family=\"monospace\" font-size=\"10.00\">self</text>\n<text text-anchor=\"middle\" x=\"252.5\" y=\"-310.5\" font-family=\"monospace\" font-size=\"10.00\"> (1)</text>\n</g>\n<!-- 137289752907200&#45;&gt;137289757893920 -->\n<g id=\"edge10\" class=\"edge\">\n<title>137289752907200&#45;&gt;137289757893920</title>\n<path fill=\"none\" stroke=\"black\" d=\"M238.72,-374.97C242.07,-361.49 246.08,-345.35 248.91,-333.96\"/>\n</g>\n<!-- 137289752917568 -->\n<g id=\"node13\" class=\"node\">\n<title>137289752917568</title>\n<polygon fill=\"lightgrey\" stroke=\"black\" points=\"283,-482 182,-482 182,-463 283,-463 283,-482\"/>\n<text text-anchor=\"middle\" x=\"232.5\" y=\"-470\" font-family=\"monospace\" font-size=\"10.00\">AccumulateGrad</text>\n</g>\n<!-- 137289752917568&#45;&gt;137289752907200 -->\n<g id=\"edge11\" class=\"edge\">\n<title>137289752917568&#45;&gt;137289752907200</title>\n<path fill=\"none\" stroke=\"black\" d=\"M232.5,-462.98C232.5,-456.43 232.5,-446.91 232.5,-437.33\"/>\n<polygon fill=\"black\" stroke=\"black\" points=\"236,-437.05 232.5,-427.05 229,-437.05 236,-437.05\"/>\n</g>\n<!-- 137286458897680 -->\n<g id=\"node14\" class=\"node\">\n<title>137286458897680</title>\n<polygon fill=\"lightblue\" stroke=\"black\" points=\"259.5,-548 205.5,-548 205.5,-518 259.5,-518 259.5,-548\"/>\n<text text-anchor=\"middle\" x=\"232.5\" y=\"-536\" font-family=\"monospace\" font-size=\"10.00\">w2</text>\n<text text-anchor=\"middle\" x=\"232.5\" y=\"-525\" font-family=\"monospace\" font-size=\"10.00\"> (1)</text>\n</g>\n<!-- 137286458897680&#45;&gt;137289752917568 -->\n<g id=\"edge12\" class=\"edge\">\n<title>137286458897680&#45;&gt;137289752917568</title>\n<path fill=\"none\" stroke=\"black\" d=\"M232.5,-517.84C232.5,-510.21 232.5,-500.7 232.5,-492.45\"/>\n<polygon fill=\"black\" stroke=\"black\" points=\"236,-492.27 232.5,-482.27 229,-492.27 236,-492.27\"/>\n</g>\n<!-- 137289759733696 -->\n<g id=\"node15\" class=\"node\">\n<title>137289759733696</title>\n<polygon fill=\"lightgrey\" stroke=\"black\" points=\"399,-328 298,-328 298,-309 399,-309 399,-328\"/>\n<text text-anchor=\"middle\" x=\"348.5\" y=\"-316\" font-family=\"monospace\" font-size=\"10.00\">AccumulateGrad</text>\n</g>\n<!-- 137289759733696&#45;&gt;137289759733600 -->\n<g id=\"edge13\" class=\"edge\">\n<title>137289759733696&#45;&gt;137289759733600</title>\n<path fill=\"none\" stroke=\"black\" d=\"M337.83,-308.9C325.78,-299.18 305.57,-282.88 288.19,-268.87\"/>\n<polygon fill=\"black\" stroke=\"black\" points=\"289.92,-265.76 279.94,-262.21 285.53,-271.21 289.92,-265.76\"/>\n</g>\n<!-- 137286458897760 -->\n<g id=\"node16\" class=\"node\">\n<title>137286458897760</title>\n<polygon fill=\"lightblue\" stroke=\"black\" points=\"376.5,-416 322.5,-416 322.5,-386 376.5,-386 376.5,-416\"/>\n<text text-anchor=\"middle\" x=\"349.5\" y=\"-404\" font-family=\"monospace\" font-size=\"10.00\">b</text>\n<text text-anchor=\"middle\" x=\"349.5\" y=\"-393\" font-family=\"monospace\" font-size=\"10.00\"> (1)</text>\n</g>\n<!-- 137286458897760&#45;&gt;137289759733696 -->\n<g id=\"edge14\" class=\"edge\">\n<title>137286458897760&#45;&gt;137289759733696</title>\n<path fill=\"none\" stroke=\"black\" d=\"M349.33,-385.98C349.16,-372.9 348.92,-353.27 348.74,-338.73\"/>\n<polygon fill=\"black\" stroke=\"black\" points=\"352.23,-338.34 348.61,-328.38 345.23,-338.43 352.23,-338.34\"/>\n</g>\n</g>\n</svg>\n",
            "text/plain": [
              "<graphviz.graphs.Digraph at 0x7cdd435c3cd0>"
            ]
          },
          "metadata": {},
          "execution_count": 15
        }
      ]
    },
    {
      "cell_type": "markdown",
      "source": [
        "## Understanding Derivatives\n",
        "\n",
        "A derivative, in the context of neural network training, represents the sensitivity of the loss with respect to a particular parameter. In simpler terms, it tells us how much the loss would change if we made a tiny adjustment to that parameter. If the derivative is large, it means that parameter has a significant influence on the loss.\n",
        "\n",
        "![picture](https://raw.githubusercontent.com/kyuz0/llm-chronicles/main/3.2%20-%20Lab%20-%20Gradient%20Descent%20in%20Practice%20with%20PyTorch/gradient-descent.png)"
      ],
      "metadata": {
        "id": "1PLz3CNPVp-O"
      }
    },
    {
      "cell_type": "code",
      "source": [
        "x1 = torch.tensor([-1.1])\n",
        "x2 = torch.tensor([2.4])\n",
        "\n",
        "w1 = torch.tensor([0.6+0.2], requires_grad=True)\n",
        "w2 = torch.tensor([1.3-0.1], requires_grad=True)\n",
        "b = torch.tensor([0.2-0.1], requires_grad=True)\n",
        "\n",
        "z = (x1*w1 + x2*w2) + b\n",
        "y_hat = torch.nn.functional.relu(z)\n",
        "y = torch.tensor(0.5)\n",
        "l = y_hat - y\n",
        "l"
      ],
      "metadata": {
        "colab": {
          "base_uri": "https://localhost:8080/"
        },
        "id": "xA01jpGIH8_C",
        "outputId": "896fe951-a103-4dab-e069-56739b2c136d"
      },
      "execution_count": null,
      "outputs": [
        {
          "output_type": "execute_result",
          "data": {
            "text/plain": [
              "tensor([1.6000], grad_fn=<SubBackward0>)"
            ]
          },
          "metadata": {},
          "execution_count": 23
        }
      ]
    },
    {
      "cell_type": "markdown",
      "source": [
        "## A computation graph for out MNIST MLP\n",
        "\n",
        "Let's now consider the simple Multi-Layer Perceptron (MLP) that we've built to recognize MNIST digits. This MLP consists of an input layer, hidden layers, and an output layer.\n",
        "\n",
        "The only difference here is that we're multupying matrices instead of scalar values, but all the concepts we've seen are the same.\n",
        "\n"
      ],
      "metadata": {
        "id": "piq7PPCCLFbk"
      }
    },
    {
      "cell_type": "code",
      "source": [
        "class MNISTNet(nn.Module):\n",
        "  def __init__(self):\n",
        "    super().__init__()\n",
        "    self.Layer1 = nn.Linear(28*28, 100)\n",
        "    self.Layer2 = nn.Linear(100, 150)\n",
        "    self.Layer3 = nn.Linear(150, 10)\n",
        "\n",
        "  def forward(self, x):\n",
        "    x =  F.relu(self.Layer1(x))\n",
        "    x =  F.relu(self.Layer2(x))\n",
        "    x =  self.Layer3(x)\n",
        "    return x"
      ],
      "metadata": {
        "id": "GBmlgB0_B_rf"
      },
      "execution_count": null,
      "outputs": []
    },
    {
      "cell_type": "code",
      "source": [
        "# making up a random 28x28 image\n",
        "x = torch.rand(1, 28*28)\n",
        "\n",
        "model = MNISTNet()"
      ],
      "metadata": {
        "id": "BB6gyrR8LY2j"
      },
      "execution_count": null,
      "outputs": []
    },
    {
      "cell_type": "code",
      "source": [
        "# forward pass\n",
        "y_hat = model(x)\n",
        "y_hat"
      ],
      "metadata": {
        "colab": {
          "base_uri": "https://localhost:8080/"
        },
        "id": "_6wTa4VGLjQe",
        "outputId": "a0b489d0-ac38-4b97-a8d6-5380266599f9"
      },
      "execution_count": null,
      "outputs": [
        {
          "output_type": "execute_result",
          "data": {
            "text/plain": [
              "tensor([[ 0.0268, -0.0930, -0.0011, -0.0296,  0.0743, -0.0373,  0.0677,  0.0393,\n",
              "         -0.1071,  0.0185]], grad_fn=<AddmmBackward0>)"
            ]
          },
          "metadata": {},
          "execution_count": 26
        }
      ]
    },
    {
      "cell_type": "markdown",
      "source": [
        "## Cross-Entropy Loss\n",
        "\n",
        "Cross-entropy loss is a metric that quantifies the difference between two probability distributions. In the context of neural networks, it's commonly used to measure the dissimilarity between the predicted probability distribution (outputted by the model) and the true distribution.\n",
        "\n",
        "For classification tasks, the true distribution is typically a one-hot encoded vector, where one class is marked as \"certain\" (with a value of 1) and all other classes as \"impossible\" (with values of 0). The model's predictions, often referred to as **logits**, represent the raw scores for each class.\n",
        "\n",
        "![picture](https://raw.githubusercontent.com/kyuz0/llm-chronicles/main/3.2%20-%20Lab%20-%20Gradient%20Descent%20in%20Practice%20with%20PyTorch/cross-entropy.png)\n"
      ],
      "metadata": {
        "id": "eOpNi_aVW_bV"
      }
    },
    {
      "cell_type": "code",
      "source": [
        "# Making up a one-hot encoded target label\n",
        "y = torch.tensor([[0.0,1.0,0.0,0.0,0.0,0.0,0.0,0.0,0.0,0.0]])\n",
        "\n",
        "loss = F.cross_entropy(y_hat, y)\n",
        "loss"
      ],
      "metadata": {
        "colab": {
          "base_uri": "https://localhost:8080/"
        },
        "id": "C3d0KWn6LwUR",
        "outputId": "02e090e4-9336-4722-bc04-695f3e79eb10"
      },
      "execution_count": null,
      "outputs": [
        {
          "output_type": "execute_result",
          "data": {
            "text/plain": [
              "tensor(2.3932, grad_fn=<DivBackward1>)"
            ]
          },
          "metadata": {},
          "execution_count": 27
        }
      ]
    },
    {
      "cell_type": "code",
      "source": [
        "loss.backward(retain_graph=True)"
      ],
      "metadata": {
        "id": "RClmFLTkMKVq"
      },
      "execution_count": null,
      "outputs": []
    },
    {
      "cell_type": "code",
      "source": [
        "for name, param in model.named_parameters():\n",
        "    print(name, param.grad)"
      ],
      "metadata": {
        "colab": {
          "base_uri": "https://localhost:8080/"
        },
        "id": "htSNazZNMP_L",
        "outputId": "5376acd7-e735-42cb-fdb0-9fa830040a36"
      },
      "execution_count": null,
      "outputs": [
        {
          "output_type": "stream",
          "name": "stdout",
          "text": [
            "Layer1.weight tensor([[-5.4157e-03, -2.5897e-02, -2.8696e-02,  ..., -3.8408e-04,\n",
            "         -1.6741e-02, -3.5980e-02],\n",
            "        [ 0.0000e+00,  0.0000e+00,  0.0000e+00,  ...,  0.0000e+00,\n",
            "          0.0000e+00,  0.0000e+00],\n",
            "        [ 0.0000e+00,  0.0000e+00,  0.0000e+00,  ...,  0.0000e+00,\n",
            "          0.0000e+00,  0.0000e+00],\n",
            "        ...,\n",
            "        [ 0.0000e+00,  0.0000e+00,  0.0000e+00,  ...,  0.0000e+00,\n",
            "          0.0000e+00,  0.0000e+00],\n",
            "        [ 0.0000e+00,  0.0000e+00,  0.0000e+00,  ...,  0.0000e+00,\n",
            "          0.0000e+00,  0.0000e+00],\n",
            "        [-2.2655e-05, -1.0833e-04, -1.2004e-04,  ..., -1.6067e-06,\n",
            "         -7.0029e-05, -1.5051e-04]])\n",
            "Layer1.bias tensor([-5.1001e-02,  0.0000e+00,  0.0000e+00,  4.2626e-03,  0.0000e+00,\n",
            "         4.6852e-02,  0.0000e+00,  0.0000e+00,  0.0000e+00,  0.0000e+00,\n",
            "         0.0000e+00,  3.7230e-03,  9.8631e-04,  8.5146e-05,  5.2007e-03,\n",
            "         0.0000e+00,  0.0000e+00,  6.4967e-03, -1.4560e-02,  0.0000e+00,\n",
            "         0.0000e+00,  0.0000e+00,  0.0000e+00, -1.5209e-02,  1.0450e-02,\n",
            "         0.0000e+00,  0.0000e+00,  0.0000e+00,  1.4120e-02,  0.0000e+00,\n",
            "         2.1464e-02,  9.7871e-03,  0.0000e+00,  0.0000e+00,  0.0000e+00,\n",
            "         0.0000e+00,  2.4715e-03, -2.0193e-02,  5.5172e-03,  0.0000e+00,\n",
            "         0.0000e+00,  7.3431e-04,  0.0000e+00, -6.4643e-03, -2.1300e-02,\n",
            "         0.0000e+00,  1.2729e-02,  0.0000e+00,  1.9828e-02, -5.6622e-03,\n",
            "        -5.5791e-03,  0.0000e+00,  3.7116e-02,  7.3257e-03,  0.0000e+00,\n",
            "         0.0000e+00, -4.6747e-04,  0.0000e+00, -1.6763e-02,  6.4870e-03,\n",
            "         0.0000e+00,  0.0000e+00, -9.7717e-03,  0.0000e+00,  0.0000e+00,\n",
            "        -6.7785e-03,  0.0000e+00,  3.0598e-02,  0.0000e+00,  8.5027e-03,\n",
            "         1.3295e-02,  1.3808e-02,  0.0000e+00,  7.9822e-03, -2.6923e-02,\n",
            "         6.7152e-03,  1.2963e-02,  1.8838e-02,  1.4354e-02,  0.0000e+00,\n",
            "         0.0000e+00,  0.0000e+00,  2.8949e-02,  0.0000e+00,  1.5022e-02,\n",
            "         2.6979e-03,  0.0000e+00, -2.0624e-02,  0.0000e+00, -1.7538e-04,\n",
            "         1.6430e-02,  0.0000e+00,  2.3248e-02,  0.0000e+00,  0.0000e+00,\n",
            "        -9.2725e-03,  1.2495e-02,  0.0000e+00,  0.0000e+00, -2.1334e-04])\n",
            "Layer2.weight tensor([[-0.0072, -0.0000, -0.0000,  ..., -0.0000, -0.0000, -0.0075],\n",
            "        [ 0.0003,  0.0000,  0.0000,  ...,  0.0000,  0.0000,  0.0003],\n",
            "        [-0.0050, -0.0000, -0.0000,  ..., -0.0000, -0.0000, -0.0051],\n",
            "        ...,\n",
            "        [ 0.0000,  0.0000,  0.0000,  ...,  0.0000,  0.0000,  0.0000],\n",
            "        [ 0.0000,  0.0000,  0.0000,  ...,  0.0000,  0.0000,  0.0000],\n",
            "        [ 0.0000,  0.0000,  0.0000,  ...,  0.0000,  0.0000,  0.0000]])\n",
            "Layer2.bias tensor([-0.0448,  0.0019, -0.0307,  0.0474,  0.0564,  0.0458, -0.0494,  0.0000,\n",
            "         0.0000,  0.0000,  0.0769,  0.0000, -0.0328,  0.0000,  0.0000,  0.0000,\n",
            "        -0.0183,  0.0250,  0.0090,  0.0300,  0.0276,  0.0000,  0.0168,  0.0000,\n",
            "         0.0421,  0.0000,  0.0000, -0.0122,  0.0000,  0.0000,  0.0000, -0.0639,\n",
            "         0.0000, -0.0191,  0.0000, -0.0169,  0.0000,  0.0000,  0.0854,  0.0000,\n",
            "         0.0003,  0.0057, -0.0535,  0.0000,  0.0215,  0.0000,  0.0000,  0.0000,\n",
            "        -0.0109,  0.0063,  0.0000,  0.0000,  0.0000,  0.0000,  0.0000,  0.0000,\n",
            "         0.0000,  0.0000,  0.0000,  0.0000, -0.0148,  0.0822,  0.0000,  0.0000,\n",
            "         0.0000,  0.0820, -0.0028,  0.0000,  0.0000, -0.0476,  0.0000, -0.0414,\n",
            "         0.0000,  0.0550,  0.0000,  0.0048, -0.0864, -0.0145,  0.0101,  0.0000,\n",
            "        -0.0308,  0.0000,  0.0000,  0.0000, -0.0369,  0.0410,  0.0151,  0.0925,\n",
            "         0.0108,  0.0000,  0.0165,  0.0000,  0.0000,  0.0000,  0.0000,  0.0187,\n",
            "         0.0000,  0.0000,  0.0000,  0.0000,  0.0061,  0.0000,  0.0000, -0.0065,\n",
            "         0.0739,  0.0252,  0.0694,  0.0000, -0.0417,  0.0496,  0.0287,  0.0265,\n",
            "         0.0000,  0.0000,  0.0000,  0.0000,  0.0000,  0.0000,  0.0305,  0.0000,\n",
            "        -0.0611,  0.0000,  0.0000,  0.0505, -0.0054,  0.0000, -0.0357,  0.0000,\n",
            "         0.0000, -0.0091,  0.0000, -0.0332, -0.0561,  0.0000, -0.0210,  0.0000,\n",
            "         0.0634, -0.0136, -0.0403,  0.0000,  0.0000, -0.0453,  0.0052,  0.0000,\n",
            "         0.0000,  0.0000,  0.0000,  0.0000,  0.0000,  0.0000])\n",
            "Layer3.weight tensor([[ 0.0031,  0.0004,  0.0092,  ...,  0.0000,  0.0000,  0.0000],\n",
            "        [-0.0272, -0.0031, -0.0816,  ..., -0.0000, -0.0000, -0.0000],\n",
            "        [ 0.0030,  0.0003,  0.0090,  ...,  0.0000,  0.0000,  0.0000],\n",
            "        ...,\n",
            "        [ 0.0031,  0.0004,  0.0094,  ...,  0.0000,  0.0000,  0.0000],\n",
            "        [ 0.0027,  0.0003,  0.0081,  ...,  0.0000,  0.0000,  0.0000],\n",
            "        [ 0.0031,  0.0004,  0.0092,  ...,  0.0000,  0.0000,  0.0000]])\n",
            "Layer3.bias tensor([ 0.1030, -0.9087,  0.1001,  0.0973,  0.1080,  0.0966,  0.1073,  0.1043,\n",
            "         0.0901,  0.1021])\n"
          ]
        }
      ]
    },
    {
      "cell_type": "code",
      "source": [
        "make_dot(loss, show_attrs=False, show_saved=True)"
      ],
      "metadata": {
        "colab": {
          "base_uri": "https://localhost:8080/",
          "height": 1000
        },
        "id": "x_W2e-AlMcfp",
        "outputId": "df2b507d-7294-449c-a5a6-68cad34b9ddc"
      },
      "execution_count": null,
      "outputs": [
        {
          "output_type": "execute_result",
          "data": {
            "image/svg+xml": "<?xml version=\"1.0\" encoding=\"UTF-8\" standalone=\"no\"?>\n<!DOCTYPE svg PUBLIC \"-//W3C//DTD SVG 1.1//EN\"\n \"http://www.w3.org/Graphics/SVG/1.1/DTD/svg11.dtd\">\n<!-- Generated by graphviz version 2.43.0 (0)\n -->\n<!-- Title: %3 Pages: 1 -->\n<svg width=\"656pt\" height=\"864pt\"\n viewBox=\"0.00 0.00 656.09 864.00\" xmlns=\"http://www.w3.org/2000/svg\" xmlns:xlink=\"http://www.w3.org/1999/xlink\">\n<g id=\"graph0\" class=\"graph\" transform=\"scale(1.02 1.02) rotate(0) translate(4 877)\">\n<title>%3</title>\n<polygon fill=\"white\" stroke=\"transparent\" points=\"-4,4 -4,-877 665,-877 665,4 -4,4\"/>\n<!-- 137289759884848 -->\n<g id=\"node1\" class=\"node\">\n<title>137289759884848</title>\n<polygon fill=\"#caff70\" stroke=\"black\" points=\"71.5,-31 17.5,-31 17.5,0 71.5,0 71.5,-31\"/>\n<text text-anchor=\"middle\" x=\"44.5\" y=\"-7\" font-family=\"monospace\" font-size=\"10.00\"> ()</text>\n</g>\n<!-- 137289759735328 -->\n<g id=\"node2\" class=\"node\">\n<title>137289759735328</title>\n<polygon fill=\"lightgrey\" stroke=\"black\" points=\"89,-86 0,-86 0,-67 89,-67 89,-86\"/>\n<text text-anchor=\"middle\" x=\"44.5\" y=\"-74\" font-family=\"monospace\" font-size=\"10.00\">DivBackward1</text>\n</g>\n<!-- 137289759735328&#45;&gt;137289759884848 -->\n<g id=\"edge34\" class=\"edge\">\n<title>137289759735328&#45;&gt;137289759884848</title>\n<path fill=\"none\" stroke=\"black\" d=\"M44.5,-66.79C44.5,-60.07 44.5,-50.4 44.5,-41.34\"/>\n<polygon fill=\"black\" stroke=\"black\" points=\"48,-41.19 44.5,-31.19 41,-41.19 48,-41.19\"/>\n</g>\n<!-- 137289759732304 -->\n<g id=\"node3\" class=\"node\">\n<title>137289759732304</title>\n<polygon fill=\"lightgrey\" stroke=\"black\" points=\"89,-141 0,-141 0,-122 89,-122 89,-141\"/>\n<text text-anchor=\"middle\" x=\"44.5\" y=\"-129\" font-family=\"monospace\" font-size=\"10.00\">NegBackward0</text>\n</g>\n<!-- 137289759732304&#45;&gt;137289759735328 -->\n<g id=\"edge1\" class=\"edge\">\n<title>137289759732304&#45;&gt;137289759735328</title>\n<path fill=\"none\" stroke=\"black\" d=\"M44.5,-121.75C44.5,-114.8 44.5,-104.85 44.5,-96.13\"/>\n<polygon fill=\"black\" stroke=\"black\" points=\"48,-96.09 44.5,-86.09 41,-96.09 48,-96.09\"/>\n</g>\n<!-- 137289737930880 -->\n<g id=\"node4\" class=\"node\">\n<title>137289737930880</title>\n<polygon fill=\"lightgrey\" stroke=\"black\" points=\"89,-201.5 0,-201.5 0,-182.5 89,-182.5 89,-201.5\"/>\n<text text-anchor=\"middle\" x=\"44.5\" y=\"-189.5\" font-family=\"monospace\" font-size=\"10.00\">SumBackward0</text>\n</g>\n<!-- 137289737930880&#45;&gt;137289759732304 -->\n<g id=\"edge2\" class=\"edge\">\n<title>137289737930880&#45;&gt;137289759732304</title>\n<path fill=\"none\" stroke=\"black\" d=\"M44.5,-182.37C44.5,-174.25 44.5,-161.81 44.5,-151.39\"/>\n<polygon fill=\"black\" stroke=\"black\" points=\"48,-151.17 44.5,-141.17 41,-151.17 48,-151.17\"/>\n</g>\n<!-- 137289737929872 -->\n<g id=\"node5\" class=\"node\">\n<title>137289737929872</title>\n<polygon fill=\"lightgrey\" stroke=\"black\" points=\"136,-267.5 47,-267.5 47,-248.5 136,-248.5 136,-267.5\"/>\n<text text-anchor=\"middle\" x=\"91.5\" y=\"-255.5\" font-family=\"monospace\" font-size=\"10.00\">MulBackward0</text>\n</g>\n<!-- 137289737929872&#45;&gt;137289737930880 -->\n<g id=\"edge3\" class=\"edge\">\n<title>137289737929872&#45;&gt;137289737930880</title>\n<path fill=\"none\" stroke=\"black\" d=\"M85.16,-248.37C77.98,-238.59 66.11,-222.42 57.04,-210.08\"/>\n<polygon fill=\"black\" stroke=\"black\" points=\"59.78,-207.89 51.04,-201.91 54.14,-212.04 59.78,-207.89\"/>\n</g>\n<!-- 137286434846288 -->\n<g id=\"node6\" class=\"node\">\n<title>137286434846288</title>\n<polygon fill=\"orange\" stroke=\"black\" points=\"172,-207 107,-207 107,-177 172,-177 172,-207\"/>\n<text text-anchor=\"middle\" x=\"139.5\" y=\"-195\" font-family=\"monospace\" font-size=\"10.00\">other</text>\n<text text-anchor=\"middle\" x=\"139.5\" y=\"-184\" font-family=\"monospace\" font-size=\"10.00\"> (1, 10)</text>\n</g>\n<!-- 137289737929872&#45;&gt;137286434846288 -->\n<g id=\"edge4\" class=\"edge\">\n<title>137289737929872&#45;&gt;137286434846288</title>\n<path fill=\"none\" stroke=\"black\" d=\"M97.97,-248.37C105.86,-237.86 119.28,-219.96 128.73,-207.36\"/>\n</g>\n<!-- 137289737930832 -->\n<g id=\"node7\" class=\"node\">\n<title>137289737930832</title>\n<polygon fill=\"lightgrey\" stroke=\"black\" points=\"204,-333.5 73,-333.5 73,-314.5 204,-314.5 204,-333.5\"/>\n<text text-anchor=\"middle\" x=\"138.5\" y=\"-321.5\" font-family=\"monospace\" font-size=\"10.00\">LogSoftmaxBackward0</text>\n</g>\n<!-- 137289737930832&#45;&gt;137289737929872 -->\n<g id=\"edge5\" class=\"edge\">\n<title>137289737930832&#45;&gt;137289737929872</title>\n<path fill=\"none\" stroke=\"black\" d=\"M132.16,-314.37C124.98,-304.59 113.11,-288.42 104.04,-276.08\"/>\n<polygon fill=\"black\" stroke=\"black\" points=\"106.78,-273.89 98.04,-267.91 101.14,-278.04 106.78,-273.89\"/>\n</g>\n<!-- 137286457708112 -->\n<g id=\"node8\" class=\"node\">\n<title>137286457708112</title>\n<polygon fill=\"orange\" stroke=\"black\" points=\"219,-273 154,-273 154,-243 219,-243 219,-273\"/>\n<text text-anchor=\"middle\" x=\"186.5\" y=\"-261\" font-family=\"monospace\" font-size=\"10.00\">result</text>\n<text text-anchor=\"middle\" x=\"186.5\" y=\"-250\" font-family=\"monospace\" font-size=\"10.00\"> (1, 10)</text>\n</g>\n<!-- 137289737930832&#45;&gt;137286457708112 -->\n<g id=\"edge6\" class=\"edge\">\n<title>137289737930832&#45;&gt;137286457708112</title>\n<path fill=\"none\" stroke=\"black\" d=\"M144.97,-314.37C152.86,-303.86 166.28,-285.96 175.73,-273.36\"/>\n</g>\n<!-- 137289737931264 -->\n<g id=\"node9\" class=\"node\">\n<title>137289737931264</title>\n<polygon fill=\"lightgrey\" stroke=\"black\" points=\"308,-399.5 207,-399.5 207,-380.5 308,-380.5 308,-399.5\"/>\n<text text-anchor=\"middle\" x=\"257.5\" y=\"-387.5\" font-family=\"monospace\" font-size=\"10.00\">AddmmBackward0</text>\n</g>\n<!-- 137289737931264&#45;&gt;137289737930832 -->\n<g id=\"edge7\" class=\"edge\">\n<title>137289737931264&#45;&gt;137289737930832</title>\n<path fill=\"none\" stroke=\"black\" d=\"M241.45,-380.37C221.49,-369.63 187.18,-351.18 163.7,-338.55\"/>\n<polygon fill=\"black\" stroke=\"black\" points=\"165.14,-335.35 154.67,-333.7 161.82,-341.52 165.14,-335.35\"/>\n</g>\n<!-- 137286434837488 -->\n<g id=\"node10\" class=\"node\">\n<title>137286434837488</title>\n<polygon fill=\"orange\" stroke=\"black\" points=\"293,-339 222,-339 222,-309 293,-309 293,-339\"/>\n<text text-anchor=\"middle\" x=\"257.5\" y=\"-327\" font-family=\"monospace\" font-size=\"10.00\">mat1</text>\n<text text-anchor=\"middle\" x=\"257.5\" y=\"-316\" font-family=\"monospace\" font-size=\"10.00\"> (1, 150)</text>\n</g>\n<!-- 137289737931264&#45;&gt;137286434837488 -->\n<g id=\"edge8\" class=\"edge\">\n<title>137289737931264&#45;&gt;137286434837488</title>\n<path fill=\"none\" stroke=\"black\" d=\"M257.5,-380.37C257.5,-369.86 257.5,-351.96 257.5,-339.36\"/>\n</g>\n<!-- 137289757910704 -->\n<g id=\"node11\" class=\"node\">\n<title>137289757910704</title>\n<polygon fill=\"orange\" stroke=\"black\" points=\"388,-339 311,-339 311,-309 388,-309 388,-339\"/>\n<text text-anchor=\"middle\" x=\"349.5\" y=\"-327\" font-family=\"monospace\" font-size=\"10.00\">mat2</text>\n<text text-anchor=\"middle\" x=\"349.5\" y=\"-316\" font-family=\"monospace\" font-size=\"10.00\"> (150, 10)</text>\n</g>\n<!-- 137289737931264&#45;&gt;137289757910704 -->\n<g id=\"edge9\" class=\"edge\">\n<title>137289737931264&#45;&gt;137289757910704</title>\n<path fill=\"none\" stroke=\"black\" d=\"M269.91,-380.37C285.11,-369.79 311.08,-351.72 329.21,-339.12\"/>\n</g>\n<!-- 137289759950640 -->\n<g id=\"node12\" class=\"node\">\n<title>137289759950640</title>\n<polygon fill=\"lightgrey\" stroke=\"black\" points=\"201,-465.5 100,-465.5 100,-446.5 201,-446.5 201,-465.5\"/>\n<text text-anchor=\"middle\" x=\"150.5\" y=\"-453.5\" font-family=\"monospace\" font-size=\"10.00\">AccumulateGrad</text>\n</g>\n<!-- 137289759950640&#45;&gt;137289737931264 -->\n<g id=\"edge10\" class=\"edge\">\n<title>137289759950640&#45;&gt;137289737931264</title>\n<path fill=\"none\" stroke=\"black\" d=\"M164.93,-446.37C182.72,-435.73 213.18,-417.51 234.28,-404.89\"/>\n<polygon fill=\"black\" stroke=\"black\" points=\"236.17,-407.84 242.96,-399.7 232.58,-401.83 236.17,-407.84\"/>\n</g>\n<!-- 137286434837968 -->\n<g id=\"node13\" class=\"node\">\n<title>137286434837968</title>\n<polygon fill=\"lightblue\" stroke=\"black\" points=\"177.5,-538 123.5,-538 123.5,-507 177.5,-507 177.5,-538\"/>\n<text text-anchor=\"middle\" x=\"150.5\" y=\"-514\" font-family=\"monospace\" font-size=\"10.00\"> (10)</text>\n</g>\n<!-- 137286434837968&#45;&gt;137289759950640 -->\n<g id=\"edge11\" class=\"edge\">\n<title>137286434837968&#45;&gt;137289759950640</title>\n<path fill=\"none\" stroke=\"black\" d=\"M150.5,-506.86C150.5,-497.68 150.5,-485.75 150.5,-475.86\"/>\n<polygon fill=\"black\" stroke=\"black\" points=\"154,-475.82 150.5,-465.82 147,-475.82 154,-475.82\"/>\n</g>\n<!-- 137289759951984 -->\n<g id=\"node14\" class=\"node\">\n<title>137289759951984</title>\n<polygon fill=\"lightgrey\" stroke=\"black\" points=\"625,-465.5 530,-465.5 530,-446.5 625,-446.5 625,-465.5\"/>\n<text text-anchor=\"middle\" x=\"577.5\" y=\"-453.5\" font-family=\"monospace\" font-size=\"10.00\">ReluBackward0</text>\n</g>\n<!-- 137289759951984&#45;&gt;137289737931264 -->\n<g id=\"edge12\" class=\"edge\">\n<title>137289759951984&#45;&gt;137289737931264</title>\n<path fill=\"none\" stroke=\"black\" d=\"M544.71,-446.46C537.11,-444.58 529.04,-442.65 521.5,-441 451.73,-425.68 370.97,-410.8 317.33,-401.31\"/>\n<polygon fill=\"black\" stroke=\"black\" points=\"317.76,-397.84 307.3,-399.55 316.55,-404.73 317.76,-397.84\"/>\n</g>\n<!-- 137286434845408 -->\n<g id=\"node15\" class=\"node\">\n<title>137286434845408</title>\n<polygon fill=\"orange\" stroke=\"black\" points=\"613,-405 542,-405 542,-375 613,-375 613,-405\"/>\n<text text-anchor=\"middle\" x=\"577.5\" y=\"-393\" font-family=\"monospace\" font-size=\"10.00\">result</text>\n<text text-anchor=\"middle\" x=\"577.5\" y=\"-382\" font-family=\"monospace\" font-size=\"10.00\"> (1, 150)</text>\n</g>\n<!-- 137289759951984&#45;&gt;137286434845408 -->\n<g id=\"edge13\" class=\"edge\">\n<title>137289759951984&#45;&gt;137286434845408</title>\n<path fill=\"none\" stroke=\"black\" d=\"M577.5,-446.37C577.5,-435.86 577.5,-417.96 577.5,-405.36\"/>\n</g>\n<!-- 137289759952512 -->\n<g id=\"node16\" class=\"node\">\n<title>137289759952512</title>\n<polygon fill=\"lightgrey\" stroke=\"black\" points=\"554,-532 453,-532 453,-513 554,-513 554,-532\"/>\n<text text-anchor=\"middle\" x=\"503.5\" y=\"-520\" font-family=\"monospace\" font-size=\"10.00\">AddmmBackward0</text>\n</g>\n<!-- 137289759952512&#45;&gt;137289759951984 -->\n<g id=\"edge14\" class=\"edge\">\n<title>137289759952512&#45;&gt;137289759951984</title>\n<path fill=\"none\" stroke=\"black\" d=\"M513.48,-512.8C525.35,-502.45 545.39,-484.99 559.88,-472.35\"/>\n<polygon fill=\"black\" stroke=\"black\" points=\"562.44,-474.77 567.68,-465.56 557.84,-469.49 562.44,-474.77\"/>\n</g>\n<!-- 137286434842448 -->\n<g id=\"node17\" class=\"node\">\n<title>137286434842448</title>\n<polygon fill=\"orange\" stroke=\"black\" points=\"512,-471 441,-471 441,-441 512,-441 512,-471\"/>\n<text text-anchor=\"middle\" x=\"476.5\" y=\"-459\" font-family=\"monospace\" font-size=\"10.00\">mat1</text>\n<text text-anchor=\"middle\" x=\"476.5\" y=\"-448\" font-family=\"monospace\" font-size=\"10.00\"> (1, 100)</text>\n</g>\n<!-- 137289759952512&#45;&gt;137286434842448 -->\n<g id=\"edge15\" class=\"edge\">\n<title>137289759952512&#45;&gt;137286434842448</title>\n<path fill=\"none\" stroke=\"black\" d=\"M499.86,-512.8C495.43,-502.21 487.87,-484.17 482.56,-471.47\"/>\n</g>\n<!-- 137289759783920 -->\n<g id=\"node18\" class=\"node\">\n<title>137289759783920</title>\n<polygon fill=\"orange\" stroke=\"black\" points=\"423,-471 340,-471 340,-441 423,-441 423,-471\"/>\n<text text-anchor=\"middle\" x=\"381.5\" y=\"-459\" font-family=\"monospace\" font-size=\"10.00\">mat2</text>\n<text text-anchor=\"middle\" x=\"381.5\" y=\"-448\" font-family=\"monospace\" font-size=\"10.00\"> (100, 150)</text>\n</g>\n<!-- 137289759952512&#45;&gt;137289759783920 -->\n<g id=\"edge16\" class=\"edge\">\n<title>137289759952512&#45;&gt;137289759783920</title>\n<path fill=\"none\" stroke=\"black\" d=\"M487.3,-512.93C467.08,-502.24 432.21,-483.81 408.06,-471.04\"/>\n</g>\n<!-- 137289759951024 -->\n<g id=\"node19\" class=\"node\">\n<title>137289759951024</title>\n<polygon fill=\"lightgrey\" stroke=\"black\" points=\"661,-599 560,-599 560,-580 661,-580 661,-599\"/>\n<text text-anchor=\"middle\" x=\"610.5\" y=\"-587\" font-family=\"monospace\" font-size=\"10.00\">AccumulateGrad</text>\n</g>\n<!-- 137289759951024&#45;&gt;137289759952512 -->\n<g id=\"edge17\" class=\"edge\">\n<title>137289759951024&#45;&gt;137289759952512</title>\n<path fill=\"none\" stroke=\"black\" d=\"M596.07,-579.73C578.18,-568.87 547.48,-550.22 526.37,-537.39\"/>\n<polygon fill=\"black\" stroke=\"black\" points=\"528.07,-534.33 517.7,-532.13 524.43,-540.31 528.07,-534.33\"/>\n</g>\n<!-- 137286464035776 -->\n<g id=\"node20\" class=\"node\">\n<title>137286464035776</title>\n<polygon fill=\"lightblue\" stroke=\"black\" points=\"637.5,-672 583.5,-672 583.5,-641 637.5,-641 637.5,-672\"/>\n<text text-anchor=\"middle\" x=\"610.5\" y=\"-648\" font-family=\"monospace\" font-size=\"10.00\"> (150)</text>\n</g>\n<!-- 137286464035776&#45;&gt;137289759951024 -->\n<g id=\"edge18\" class=\"edge\">\n<title>137286464035776&#45;&gt;137289759951024</title>\n<path fill=\"none\" stroke=\"black\" d=\"M610.5,-640.75C610.5,-631.39 610.5,-619.19 610.5,-609.16\"/>\n<polygon fill=\"black\" stroke=\"black\" points=\"614,-609.02 610.5,-599.02 607,-609.02 614,-609.02\"/>\n</g>\n<!-- 137289759952224 -->\n<g id=\"node21\" class=\"node\">\n<title>137289759952224</title>\n<polygon fill=\"lightgrey\" stroke=\"black\" points=\"447,-599 352,-599 352,-580 447,-580 447,-599\"/>\n<text text-anchor=\"middle\" x=\"399.5\" y=\"-587\" font-family=\"monospace\" font-size=\"10.00\">ReluBackward0</text>\n</g>\n<!-- 137289759952224&#45;&gt;137289759952512 -->\n<g id=\"edge19\" class=\"edge\">\n<title>137289759952224&#45;&gt;137289759952512</title>\n<path fill=\"none\" stroke=\"black\" d=\"M413.53,-579.73C430.83,-568.92 460.49,-550.38 480.99,-537.57\"/>\n<polygon fill=\"black\" stroke=\"black\" points=\"483.07,-540.4 489.7,-532.13 479.36,-534.46 483.07,-540.4\"/>\n</g>\n<!-- 137286434839728 -->\n<g id=\"node22\" class=\"node\">\n<title>137286434839728</title>\n<polygon fill=\"orange\" stroke=\"black\" points=\"435,-537.5 364,-537.5 364,-507.5 435,-507.5 435,-537.5\"/>\n<text text-anchor=\"middle\" x=\"399.5\" y=\"-525.5\" font-family=\"monospace\" font-size=\"10.00\">result</text>\n<text text-anchor=\"middle\" x=\"399.5\" y=\"-514.5\" font-family=\"monospace\" font-size=\"10.00\"> (1, 100)</text>\n</g>\n<!-- 137289759952224&#45;&gt;137286434839728 -->\n<g id=\"edge20\" class=\"edge\">\n<title>137289759952224&#45;&gt;137286434839728</title>\n<path fill=\"none\" stroke=\"black\" d=\"M399.5,-579.73C399.5,-568.92 399.5,-550.41 399.5,-537.59\"/>\n</g>\n<!-- 137289759949680 -->\n<g id=\"node23\" class=\"node\">\n<title>137289759949680</title>\n<polygon fill=\"lightgrey\" stroke=\"black\" points=\"392,-666 291,-666 291,-647 392,-647 392,-666\"/>\n<text text-anchor=\"middle\" x=\"341.5\" y=\"-654\" font-family=\"monospace\" font-size=\"10.00\">AddmmBackward0</text>\n</g>\n<!-- 137289759949680&#45;&gt;137289759952224 -->\n<g id=\"edge21\" class=\"edge\">\n<title>137289759949680&#45;&gt;137289759952224</title>\n<path fill=\"none\" stroke=\"black\" d=\"M349.32,-646.73C358.45,-636.5 373.74,-619.36 385.05,-606.69\"/>\n<polygon fill=\"black\" stroke=\"black\" points=\"387.76,-608.92 391.8,-599.13 382.53,-604.26 387.76,-608.92\"/>\n</g>\n<!-- 137286434843088 -->\n<g id=\"node24\" class=\"node\">\n<title>137286434843088</title>\n<polygon fill=\"orange\" stroke=\"black\" points=\"334,-604.5 263,-604.5 263,-574.5 334,-574.5 334,-604.5\"/>\n<text text-anchor=\"middle\" x=\"298.5\" y=\"-592.5\" font-family=\"monospace\" font-size=\"10.00\">mat1</text>\n<text text-anchor=\"middle\" x=\"298.5\" y=\"-581.5\" font-family=\"monospace\" font-size=\"10.00\"> (1, 784)</text>\n</g>\n<!-- 137289759949680&#45;&gt;137286434843088 -->\n<g id=\"edge22\" class=\"edge\">\n<title>137289759949680&#45;&gt;137286434843088</title>\n<path fill=\"none\" stroke=\"black\" d=\"M335.7,-646.73C328.55,-635.92 316.3,-617.41 307.82,-604.59\"/>\n</g>\n<!-- 137289759952800 -->\n<g id=\"node25\" class=\"node\">\n<title>137289759952800</title>\n<polygon fill=\"lightgrey\" stroke=\"black\" points=\"418,-733 317,-733 317,-714 418,-714 418,-733\"/>\n<text text-anchor=\"middle\" x=\"367.5\" y=\"-721\" font-family=\"monospace\" font-size=\"10.00\">AccumulateGrad</text>\n</g>\n<!-- 137289759952800&#45;&gt;137289759949680 -->\n<g id=\"edge23\" class=\"edge\">\n<title>137289759952800&#45;&gt;137289759949680</title>\n<path fill=\"none\" stroke=\"black\" d=\"M363.99,-713.73C360.1,-703.99 353.69,-687.98 348.71,-675.53\"/>\n<polygon fill=\"black\" stroke=\"black\" points=\"351.91,-674.11 344.95,-666.13 345.42,-676.71 351.91,-674.11\"/>\n</g>\n<!-- 137286462895936 -->\n<g id=\"node26\" class=\"node\">\n<title>137286462895936</title>\n<polygon fill=\"lightblue\" stroke=\"black\" points=\"394.5,-806 340.5,-806 340.5,-775 394.5,-775 394.5,-806\"/>\n<text text-anchor=\"middle\" x=\"367.5\" y=\"-782\" font-family=\"monospace\" font-size=\"10.00\"> (100)</text>\n</g>\n<!-- 137286462895936&#45;&gt;137289759952800 -->\n<g id=\"edge24\" class=\"edge\">\n<title>137286462895936&#45;&gt;137289759952800</title>\n<path fill=\"none\" stroke=\"black\" d=\"M367.5,-774.75C367.5,-765.39 367.5,-753.19 367.5,-743.16\"/>\n<polygon fill=\"black\" stroke=\"black\" points=\"371,-743.02 367.5,-733.02 364,-743.02 371,-743.02\"/>\n</g>\n<!-- 137289759953232 -->\n<g id=\"node27\" class=\"node\">\n<title>137289759953232</title>\n<polygon fill=\"lightgrey\" stroke=\"black\" points=\"299,-733 222,-733 222,-714 299,-714 299,-733\"/>\n<text text-anchor=\"middle\" x=\"260.5\" y=\"-721\" font-family=\"monospace\" font-size=\"10.00\">TBackward0</text>\n</g>\n<!-- 137289759953232&#45;&gt;137289759949680 -->\n<g id=\"edge25\" class=\"edge\">\n<title>137289759953232&#45;&gt;137289759949680</title>\n<path fill=\"none\" stroke=\"black\" d=\"M271.42,-713.73C284.54,-703.21 306.76,-685.38 322.66,-672.62\"/>\n<polygon fill=\"black\" stroke=\"black\" points=\"325.14,-675.12 330.75,-666.13 320.76,-669.66 325.14,-675.12\"/>\n</g>\n<!-- 137289759950592 -->\n<g id=\"node28\" class=\"node\">\n<title>137289759950592</title>\n<polygon fill=\"lightgrey\" stroke=\"black\" points=\"311,-800 210,-800 210,-781 311,-781 311,-800\"/>\n<text text-anchor=\"middle\" x=\"260.5\" y=\"-788\" font-family=\"monospace\" font-size=\"10.00\">AccumulateGrad</text>\n</g>\n<!-- 137289759950592&#45;&gt;137289759953232 -->\n<g id=\"edge26\" class=\"edge\">\n<title>137289759950592&#45;&gt;137289759953232</title>\n<path fill=\"none\" stroke=\"black\" d=\"M260.5,-780.73C260.5,-771.18 260.5,-755.62 260.5,-743.28\"/>\n<polygon fill=\"black\" stroke=\"black\" points=\"264,-743.13 260.5,-733.13 257,-743.13 264,-743.13\"/>\n</g>\n<!-- 137286464308624 -->\n<g id=\"node29\" class=\"node\">\n<title>137286464308624</title>\n<polygon fill=\"lightblue\" stroke=\"black\" points=\"302,-873 219,-873 219,-842 302,-842 302,-873\"/>\n<text text-anchor=\"middle\" x=\"260.5\" y=\"-849\" font-family=\"monospace\" font-size=\"10.00\"> (100, 784)</text>\n</g>\n<!-- 137286464308624&#45;&gt;137289759950592 -->\n<g id=\"edge27\" class=\"edge\">\n<title>137286464308624&#45;&gt;137289759950592</title>\n<path fill=\"none\" stroke=\"black\" d=\"M260.5,-841.75C260.5,-832.39 260.5,-820.19 260.5,-810.16\"/>\n<polygon fill=\"black\" stroke=\"black\" points=\"264,-810.02 260.5,-800.02 257,-810.02 264,-810.02\"/>\n</g>\n<!-- 137289759951120 -->\n<g id=\"node30\" class=\"node\">\n<title>137289759951120</title>\n<polygon fill=\"lightgrey\" stroke=\"black\" points=\"542,-599 465,-599 465,-580 542,-580 542,-599\"/>\n<text text-anchor=\"middle\" x=\"503.5\" y=\"-587\" font-family=\"monospace\" font-size=\"10.00\">TBackward0</text>\n</g>\n<!-- 137289759951120&#45;&gt;137289759952512 -->\n<g id=\"edge28\" class=\"edge\">\n<title>137289759951120&#45;&gt;137289759952512</title>\n<path fill=\"none\" stroke=\"black\" d=\"M503.5,-579.73C503.5,-570.18 503.5,-554.62 503.5,-542.28\"/>\n<polygon fill=\"black\" stroke=\"black\" points=\"507,-542.13 503.5,-532.13 500,-542.13 507,-542.13\"/>\n</g>\n<!-- 137289759950688 -->\n<g id=\"node31\" class=\"node\">\n<title>137289759950688</title>\n<polygon fill=\"lightgrey\" stroke=\"black\" points=\"554,-666 453,-666 453,-647 554,-647 554,-666\"/>\n<text text-anchor=\"middle\" x=\"503.5\" y=\"-654\" font-family=\"monospace\" font-size=\"10.00\">AccumulateGrad</text>\n</g>\n<!-- 137289759950688&#45;&gt;137289759951120 -->\n<g id=\"edge29\" class=\"edge\">\n<title>137289759950688&#45;&gt;137289759951120</title>\n<path fill=\"none\" stroke=\"black\" d=\"M503.5,-646.73C503.5,-637.18 503.5,-621.62 503.5,-609.28\"/>\n<polygon fill=\"black\" stroke=\"black\" points=\"507,-609.13 503.5,-599.13 500,-609.13 507,-609.13\"/>\n</g>\n<!-- 137286462896416 -->\n<g id=\"node32\" class=\"node\">\n<title>137286462896416</title>\n<polygon fill=\"lightblue\" stroke=\"black\" points=\"545,-739 462,-739 462,-708 545,-708 545,-739\"/>\n<text text-anchor=\"middle\" x=\"503.5\" y=\"-715\" font-family=\"monospace\" font-size=\"10.00\"> (150, 100)</text>\n</g>\n<!-- 137286462896416&#45;&gt;137289759950688 -->\n<g id=\"edge30\" class=\"edge\">\n<title>137286462896416&#45;&gt;137289759950688</title>\n<path fill=\"none\" stroke=\"black\" d=\"M503.5,-707.75C503.5,-698.39 503.5,-686.19 503.5,-676.16\"/>\n<polygon fill=\"black\" stroke=\"black\" points=\"507,-676.02 503.5,-666.02 500,-676.02 507,-676.02\"/>\n</g>\n<!-- 137289759954048 -->\n<g id=\"node33\" class=\"node\">\n<title>137289759954048</title>\n<polygon fill=\"lightgrey\" stroke=\"black\" points=\"296,-465.5 219,-465.5 219,-446.5 296,-446.5 296,-465.5\"/>\n<text text-anchor=\"middle\" x=\"257.5\" y=\"-453.5\" font-family=\"monospace\" font-size=\"10.00\">TBackward0</text>\n</g>\n<!-- 137289759954048&#45;&gt;137289737931264 -->\n<g id=\"edge31\" class=\"edge\">\n<title>137289759954048&#45;&gt;137289737931264</title>\n<path fill=\"none\" stroke=\"black\" d=\"M257.5,-446.37C257.5,-437.16 257.5,-422.29 257.5,-410.27\"/>\n<polygon fill=\"black\" stroke=\"black\" points=\"261,-409.91 257.5,-399.91 254,-409.91 261,-409.91\"/>\n</g>\n<!-- 137289759952560 -->\n<g id=\"node34\" class=\"node\">\n<title>137289759952560</title>\n<polygon fill=\"lightgrey\" stroke=\"black\" points=\"302,-532 201,-532 201,-513 302,-513 302,-532\"/>\n<text text-anchor=\"middle\" x=\"251.5\" y=\"-520\" font-family=\"monospace\" font-size=\"10.00\">AccumulateGrad</text>\n</g>\n<!-- 137289759952560&#45;&gt;137289759954048 -->\n<g id=\"edge32\" class=\"edge\">\n<title>137289759952560&#45;&gt;137289759954048</title>\n<path fill=\"none\" stroke=\"black\" d=\"M252.31,-512.8C253.19,-503.32 254.63,-487.88 255.77,-475.64\"/>\n<polygon fill=\"black\" stroke=\"black\" points=\"259.26,-475.84 256.7,-465.56 252.29,-475.19 259.26,-475.84\"/>\n</g>\n<!-- 137286434842288 -->\n<g id=\"node35\" class=\"node\">\n<title>137286434842288</title>\n<polygon fill=\"lightblue\" stroke=\"black\" points=\"245,-605 168,-605 168,-574 245,-574 245,-605\"/>\n<text text-anchor=\"middle\" x=\"206.5\" y=\"-581\" font-family=\"monospace\" font-size=\"10.00\"> (10, 150)</text>\n</g>\n<!-- 137286434842288&#45;&gt;137289759952560 -->\n<g id=\"edge33\" class=\"edge\">\n<title>137286434842288&#45;&gt;137289759952560</title>\n<path fill=\"none\" stroke=\"black\" d=\"M216.71,-573.75C223.61,-563.78 232.73,-550.61 239.91,-540.25\"/>\n<polygon fill=\"black\" stroke=\"black\" points=\"242.79,-542.23 245.6,-532.02 237.03,-538.25 242.79,-542.23\"/>\n</g>\n</g>\n</svg>\n",
            "text/plain": [
              "<graphviz.graphs.Digraph at 0x7cdd435c3910>"
            ]
          },
          "metadata": {},
          "execution_count": 31
        }
      ]
    },
    {
      "cell_type": "markdown",
      "source": [
        "# (Bonus) Visualize the Forward Pass\n",
        "\n",
        "To end this, we're going to use torchview to visualize the forward pass of the MNIST MLP we built. This is not a computatin graph, but it's related as it gives us a visual representation of all the computations involved."
      ],
      "metadata": {
        "id": "xJhs7gW8EaJm"
      }
    },
    {
      "cell_type": "code",
      "source": [
        "from torchview import draw_graph\n",
        "batch_size=2\n",
        "model_graph = draw_graph(model, input_size=(batch_size, 28*28), device='meta')\n",
        "model_graph.visual_graph"
      ],
      "metadata": {
        "colab": {
          "base_uri": "https://localhost:8080/",
          "height": 685
        },
        "id": "LblKV_szD_zx",
        "outputId": "a1782209-2265-42e3-afc1-e7251fcbc827"
      },
      "execution_count": null,
      "outputs": [
        {
          "output_type": "execute_result",
          "data": {
            "image/svg+xml": "<?xml version=\"1.0\" encoding=\"UTF-8\" standalone=\"no\"?>\n<!DOCTYPE svg PUBLIC \"-//W3C//DTD SVG 1.1//EN\"\n \"http://www.w3.org/Graphics/SVG/1.1/DTD/svg11.dtd\">\n<!-- Generated by graphviz version 2.43.0 (0)\n -->\n<!-- Title: model Pages: 1 -->\n<svg width=\"185pt\" height=\"498pt\"\n viewBox=\"0.00 0.00 185.00 498.00\" xmlns=\"http://www.w3.org/2000/svg\" xmlns:xlink=\"http://www.w3.org/1999/xlink\">\n<g id=\"graph0\" class=\"graph\" transform=\"scale(1 1) rotate(0) translate(4 494)\">\n<title>model</title>\n<polygon fill=\"white\" stroke=\"transparent\" points=\"-4,4 -4,-494 181,-494 181,4 -4,4\"/>\n<!-- 0 -->\n<g id=\"node1\" class=\"node\">\n<title>0</title>\n<polygon fill=\"lightyellow\" stroke=\"transparent\" points=\"159.5,-490 17.5,-490 17.5,-458 159.5,-458 159.5,-490\"/>\n<polygon fill=\"none\" stroke=\"black\" points=\"17.5,-458 17.5,-490 100.5,-490 100.5,-458 17.5,-458\"/>\n<text text-anchor=\"start\" x=\"22.5\" y=\"-477\" font-family=\"Linux libertine\" font-size=\"10.00\">input&#45;tensor</text>\n<text text-anchor=\"start\" x=\"37.5\" y=\"-466\" font-family=\"Linux libertine\" font-size=\"10.00\">depth:0</text>\n<polygon fill=\"none\" stroke=\"black\" points=\"100.5,-458 100.5,-490 159.5,-490 159.5,-458 100.5,-458\"/>\n<text text-anchor=\"start\" x=\"105.5\" y=\"-471.5\" font-family=\"Linux libertine\" font-size=\"10.00\">(2, 784)</text>\n</g>\n<!-- 1 -->\n<g id=\"node2\" class=\"node\">\n<title>1</title>\n<polygon fill=\"#c1ffc1\" stroke=\"transparent\" points=\"177,-422 0,-422 0,-380 177,-380 177,-422\"/>\n<polygon fill=\"none\" stroke=\"black\" points=\"0.5,-380 0.5,-422 53.5,-422 53.5,-380 0.5,-380\"/>\n<text text-anchor=\"start\" x=\"8.5\" y=\"-404\" font-family=\"Linux libertine\" font-size=\"10.00\">Linear</text>\n<text text-anchor=\"start\" x=\"5.5\" y=\"-393\" font-family=\"Linux libertine\" font-size=\"10.00\">depth:1</text>\n<polygon fill=\"none\" stroke=\"black\" points=\"53.5,-401 53.5,-422 112.5,-422 112.5,-401 53.5,-401\"/>\n<text text-anchor=\"start\" x=\"64.5\" y=\"-409\" font-family=\"Linux libertine\" font-size=\"10.00\">input:</text>\n<polygon fill=\"none\" stroke=\"black\" points=\"112.5,-401 112.5,-422 177.5,-422 177.5,-401 112.5,-401\"/>\n<text text-anchor=\"start\" x=\"117.5\" y=\"-409\" font-family=\"Linux libertine\" font-size=\"10.00\">(2, 784) </text>\n<polygon fill=\"none\" stroke=\"black\" points=\"53.5,-380 53.5,-401 112.5,-401 112.5,-380 53.5,-380\"/>\n<text text-anchor=\"start\" x=\"58.5\" y=\"-388\" font-family=\"Linux libertine\" font-size=\"10.00\">output: </text>\n<polygon fill=\"none\" stroke=\"black\" points=\"112.5,-380 112.5,-401 177.5,-401 177.5,-380 112.5,-380\"/>\n<text text-anchor=\"start\" x=\"117.5\" y=\"-388\" font-family=\"Linux libertine\" font-size=\"10.00\">(2, 100) </text>\n</g>\n<!-- 0&#45;&gt;1 -->\n<g id=\"edge1\" class=\"edge\">\n<title>0&#45;&gt;1</title>\n<path fill=\"none\" stroke=\"black\" d=\"M88.5,-457.94C88.5,-450.45 88.5,-441.12 88.5,-432.24\"/>\n<polygon fill=\"black\" stroke=\"black\" points=\"92,-432.16 88.5,-422.16 85,-432.16 92,-432.16\"/>\n</g>\n<!-- 2 -->\n<g id=\"node3\" class=\"node\">\n<title>2</title>\n<polygon fill=\"aliceblue\" stroke=\"transparent\" points=\"177,-344 0,-344 0,-302 177,-302 177,-344\"/>\n<polygon fill=\"none\" stroke=\"black\" points=\"0.5,-302 0.5,-344 53.5,-344 53.5,-302 0.5,-302\"/>\n<text text-anchor=\"start\" x=\"14.5\" y=\"-326\" font-family=\"Linux libertine\" font-size=\"10.00\">relu</text>\n<text text-anchor=\"start\" x=\"5.5\" y=\"-315\" font-family=\"Linux libertine\" font-size=\"10.00\">depth:1</text>\n<polygon fill=\"none\" stroke=\"black\" points=\"53.5,-323 53.5,-344 112.5,-344 112.5,-323 53.5,-323\"/>\n<text text-anchor=\"start\" x=\"64.5\" y=\"-331\" font-family=\"Linux libertine\" font-size=\"10.00\">input:</text>\n<polygon fill=\"none\" stroke=\"black\" points=\"112.5,-323 112.5,-344 177.5,-344 177.5,-323 112.5,-323\"/>\n<text text-anchor=\"start\" x=\"117.5\" y=\"-331\" font-family=\"Linux libertine\" font-size=\"10.00\">(2, 100) </text>\n<polygon fill=\"none\" stroke=\"black\" points=\"53.5,-302 53.5,-323 112.5,-323 112.5,-302 53.5,-302\"/>\n<text text-anchor=\"start\" x=\"58.5\" y=\"-310\" font-family=\"Linux libertine\" font-size=\"10.00\">output: </text>\n<polygon fill=\"none\" stroke=\"black\" points=\"112.5,-302 112.5,-323 177.5,-323 177.5,-302 112.5,-302\"/>\n<text text-anchor=\"start\" x=\"117.5\" y=\"-310\" font-family=\"Linux libertine\" font-size=\"10.00\">(2, 100) </text>\n</g>\n<!-- 1&#45;&gt;2 -->\n<g id=\"edge2\" class=\"edge\">\n<title>1&#45;&gt;2</title>\n<path fill=\"none\" stroke=\"black\" d=\"M88.5,-379.63C88.5,-371.82 88.5,-362.73 88.5,-354.18\"/>\n<polygon fill=\"black\" stroke=\"black\" points=\"92,-354.16 88.5,-344.16 85,-354.16 92,-354.16\"/>\n</g>\n<!-- 3 -->\n<g id=\"node4\" class=\"node\">\n<title>3</title>\n<polygon fill=\"#c1ffc1\" stroke=\"transparent\" points=\"177,-266 0,-266 0,-224 177,-224 177,-266\"/>\n<polygon fill=\"none\" stroke=\"black\" points=\"0.5,-224 0.5,-266 53.5,-266 53.5,-224 0.5,-224\"/>\n<text text-anchor=\"start\" x=\"8.5\" y=\"-248\" font-family=\"Linux libertine\" font-size=\"10.00\">Linear</text>\n<text text-anchor=\"start\" x=\"5.5\" y=\"-237\" font-family=\"Linux libertine\" font-size=\"10.00\">depth:1</text>\n<polygon fill=\"none\" stroke=\"black\" points=\"53.5,-245 53.5,-266 112.5,-266 112.5,-245 53.5,-245\"/>\n<text text-anchor=\"start\" x=\"64.5\" y=\"-253\" font-family=\"Linux libertine\" font-size=\"10.00\">input:</text>\n<polygon fill=\"none\" stroke=\"black\" points=\"112.5,-245 112.5,-266 177.5,-266 177.5,-245 112.5,-245\"/>\n<text text-anchor=\"start\" x=\"117.5\" y=\"-253\" font-family=\"Linux libertine\" font-size=\"10.00\">(2, 100) </text>\n<polygon fill=\"none\" stroke=\"black\" points=\"53.5,-224 53.5,-245 112.5,-245 112.5,-224 53.5,-224\"/>\n<text text-anchor=\"start\" x=\"58.5\" y=\"-232\" font-family=\"Linux libertine\" font-size=\"10.00\">output: </text>\n<polygon fill=\"none\" stroke=\"black\" points=\"112.5,-224 112.5,-245 177.5,-245 177.5,-224 112.5,-224\"/>\n<text text-anchor=\"start\" x=\"117.5\" y=\"-232\" font-family=\"Linux libertine\" font-size=\"10.00\">(2, 150) </text>\n</g>\n<!-- 2&#45;&gt;3 -->\n<g id=\"edge3\" class=\"edge\">\n<title>2&#45;&gt;3</title>\n<path fill=\"none\" stroke=\"black\" d=\"M88.5,-301.63C88.5,-293.82 88.5,-284.73 88.5,-276.18\"/>\n<polygon fill=\"black\" stroke=\"black\" points=\"92,-276.16 88.5,-266.16 85,-276.16 92,-276.16\"/>\n</g>\n<!-- 4 -->\n<g id=\"node5\" class=\"node\">\n<title>4</title>\n<polygon fill=\"aliceblue\" stroke=\"transparent\" points=\"177,-188 0,-188 0,-146 177,-146 177,-188\"/>\n<polygon fill=\"none\" stroke=\"black\" points=\"0.5,-146 0.5,-188 53.5,-188 53.5,-146 0.5,-146\"/>\n<text text-anchor=\"start\" x=\"14.5\" y=\"-170\" font-family=\"Linux libertine\" font-size=\"10.00\">relu</text>\n<text text-anchor=\"start\" x=\"5.5\" y=\"-159\" font-family=\"Linux libertine\" font-size=\"10.00\">depth:1</text>\n<polygon fill=\"none\" stroke=\"black\" points=\"53.5,-167 53.5,-188 112.5,-188 112.5,-167 53.5,-167\"/>\n<text text-anchor=\"start\" x=\"64.5\" y=\"-175\" font-family=\"Linux libertine\" font-size=\"10.00\">input:</text>\n<polygon fill=\"none\" stroke=\"black\" points=\"112.5,-167 112.5,-188 177.5,-188 177.5,-167 112.5,-167\"/>\n<text text-anchor=\"start\" x=\"117.5\" y=\"-175\" font-family=\"Linux libertine\" font-size=\"10.00\">(2, 150) </text>\n<polygon fill=\"none\" stroke=\"black\" points=\"53.5,-146 53.5,-167 112.5,-167 112.5,-146 53.5,-146\"/>\n<text text-anchor=\"start\" x=\"58.5\" y=\"-154\" font-family=\"Linux libertine\" font-size=\"10.00\">output: </text>\n<polygon fill=\"none\" stroke=\"black\" points=\"112.5,-146 112.5,-167 177.5,-167 177.5,-146 112.5,-146\"/>\n<text text-anchor=\"start\" x=\"117.5\" y=\"-154\" font-family=\"Linux libertine\" font-size=\"10.00\">(2, 150) </text>\n</g>\n<!-- 3&#45;&gt;4 -->\n<g id=\"edge4\" class=\"edge\">\n<title>3&#45;&gt;4</title>\n<path fill=\"none\" stroke=\"black\" d=\"M88.5,-223.63C88.5,-215.82 88.5,-206.73 88.5,-198.18\"/>\n<polygon fill=\"black\" stroke=\"black\" points=\"92,-198.16 88.5,-188.16 85,-198.16 92,-198.16\"/>\n</g>\n<!-- 5 -->\n<g id=\"node6\" class=\"node\">\n<title>5</title>\n<polygon fill=\"#c1ffc1\" stroke=\"transparent\" points=\"177,-110 0,-110 0,-68 177,-68 177,-110\"/>\n<polygon fill=\"none\" stroke=\"black\" points=\"0.5,-68 0.5,-110 53.5,-110 53.5,-68 0.5,-68\"/>\n<text text-anchor=\"start\" x=\"8.5\" y=\"-92\" font-family=\"Linux libertine\" font-size=\"10.00\">Linear</text>\n<text text-anchor=\"start\" x=\"5.5\" y=\"-81\" font-family=\"Linux libertine\" font-size=\"10.00\">depth:1</text>\n<polygon fill=\"none\" stroke=\"black\" points=\"53.5,-89 53.5,-110 112.5,-110 112.5,-89 53.5,-89\"/>\n<text text-anchor=\"start\" x=\"64.5\" y=\"-97\" font-family=\"Linux libertine\" font-size=\"10.00\">input:</text>\n<polygon fill=\"none\" stroke=\"black\" points=\"112.5,-89 112.5,-110 177.5,-110 177.5,-89 112.5,-89\"/>\n<text text-anchor=\"start\" x=\"117.5\" y=\"-97\" font-family=\"Linux libertine\" font-size=\"10.00\">(2, 150) </text>\n<polygon fill=\"none\" stroke=\"black\" points=\"53.5,-68 53.5,-89 112.5,-89 112.5,-68 53.5,-68\"/>\n<text text-anchor=\"start\" x=\"58.5\" y=\"-76\" font-family=\"Linux libertine\" font-size=\"10.00\">output: </text>\n<polygon fill=\"none\" stroke=\"black\" points=\"112.5,-68 112.5,-89 177.5,-89 177.5,-68 112.5,-68\"/>\n<text text-anchor=\"start\" x=\"120.5\" y=\"-76\" font-family=\"Linux libertine\" font-size=\"10.00\">(2, 10) </text>\n</g>\n<!-- 4&#45;&gt;5 -->\n<g id=\"edge5\" class=\"edge\">\n<title>4&#45;&gt;5</title>\n<path fill=\"none\" stroke=\"black\" d=\"M88.5,-145.63C88.5,-137.82 88.5,-128.73 88.5,-120.18\"/>\n<polygon fill=\"black\" stroke=\"black\" points=\"92,-120.16 88.5,-110.16 85,-120.16 92,-120.16\"/>\n</g>\n<!-- 6 -->\n<g id=\"node7\" class=\"node\">\n<title>6</title>\n<polygon fill=\"lightyellow\" stroke=\"transparent\" points=\"159.5,-32 17.5,-32 17.5,0 159.5,0 159.5,-32\"/>\n<polygon fill=\"none\" stroke=\"black\" points=\"17.5,0 17.5,-32 106.5,-32 106.5,0 17.5,0\"/>\n<text text-anchor=\"start\" x=\"22.5\" y=\"-19\" font-family=\"Linux libertine\" font-size=\"10.00\">output&#45;tensor</text>\n<text text-anchor=\"start\" x=\"40.5\" y=\"-8\" font-family=\"Linux libertine\" font-size=\"10.00\">depth:0</text>\n<polygon fill=\"none\" stroke=\"black\" points=\"106.5,0 106.5,-32 159.5,-32 159.5,0 106.5,0\"/>\n<text text-anchor=\"start\" x=\"111.5\" y=\"-13.5\" font-family=\"Linux libertine\" font-size=\"10.00\">(2, 10)</text>\n</g>\n<!-- 5&#45;&gt;6 -->\n<g id=\"edge6\" class=\"edge\">\n<title>5&#45;&gt;6</title>\n<path fill=\"none\" stroke=\"black\" d=\"M88.5,-67.84C88.5,-59.89 88.5,-50.66 88.5,-42.26\"/>\n<polygon fill=\"black\" stroke=\"black\" points=\"92,-42.24 88.5,-32.24 85,-42.24 92,-42.24\"/>\n</g>\n</g>\n</svg>\n",
            "text/plain": [
              "<graphviz.graphs.Digraph at 0x7cdd435c3df0>"
            ]
          },
          "metadata": {},
          "execution_count": 32
        }
      ]
    }
  ]
}